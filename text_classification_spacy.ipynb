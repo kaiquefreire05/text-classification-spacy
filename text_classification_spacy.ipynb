{
  "nbformat": 4,
  "nbformat_minor": 0,
  "metadata": {
    "colab": {
      "provenance": [],
      "mount_file_id": "1Dw4BNg9xsKLhoRI-OCa_HqA1G577vOCh",
      "authorship_tag": "ABX9TyPmvpPVBYrrXSRqkor2HaoN",
      "include_colab_link": true
    },
    "kernelspec": {
      "name": "python3",
      "display_name": "Python 3"
    },
    "language_info": {
      "name": "python"
    }
  },
  "cells": [
    {
      "cell_type": "markdown",
      "metadata": {
        "id": "view-in-github",
        "colab_type": "text"
      },
      "source": [
        "<a href=\"https://colab.research.google.com/github/kaiquefreire05/text-classification-spacy/blob/main/text_classification_spacy.ipynb\" target=\"_parent\"><img src=\"https://colab.research.google.com/assets/colab-badge.svg\" alt=\"Open In Colab\"/></a>"
      ]
    },
    {
      "cell_type": "markdown",
      "source": [
        "# Classificação de textos com spaCy"
      ],
      "metadata": {
        "id": "GC9Dh4wgbiuW"
      }
    },
    {
      "cell_type": "markdown",
      "source": [
        "# Etapa 1: Instalando as bibliotecas"
      ],
      "metadata": {
        "id": "oQtNRE_HboUg"
      }
    },
    {
      "cell_type": "code",
      "source": [
        "!pip install --upgrade spacy"
      ],
      "metadata": {
        "id": "zw1I-EP5bsRk"
      },
      "execution_count": null,
      "outputs": []
    },
    {
      "cell_type": "code",
      "source": [
        "!python3 -m spacy download pt_core_news_sm"
      ],
      "metadata": {
        "id": "P9Onq42Db4Fp"
      },
      "execution_count": null,
      "outputs": []
    },
    {
      "cell_type": "code",
      "source": [
        "# Bibliotecas necessárias\n",
        "\n",
        "import spacy\n",
        "import pandas as pd\n",
        "import string\n",
        "import random\n",
        "import seaborn as sns\n",
        "import numpy as np\n",
        "import matplotlib.pyplot as plt\n",
        "\n",
        "from spacy.lang.pt.stop_words import STOP_WORDS # armazena todas as stop words\n",
        "from sklearn.metrics import accuracy_score\n",
        "from sklearn.metrics import confusion_matrix\n",
        "from sklearn.metrics import classification_report"
      ],
      "metadata": {
        "id": "ji0OjaKFcJOy"
      },
      "execution_count": 142,
      "outputs": []
    },
    {
      "cell_type": "markdown",
      "source": [
        "# Etapa 2: Carregamento da base de dados"
      ],
      "metadata": {
        "id": "Ug8tDWeFczOb"
      }
    },
    {
      "cell_type": "code",
      "source": [
        "# Carregando a base de dados\n",
        "\n",
        "base_dados = pd.read_csv('/content/base_treinamento.txt', encoding= 'utf-8')\n",
        "base_dados.shape"
      ],
      "metadata": {
        "colab": {
          "base_uri": "https://localhost:8080/"
        },
        "id": "JtKfr8Zkc2wC",
        "outputId": "987e7aa5-5fc5-4042-d199-e4b705193d23"
      },
      "execution_count": 104,
      "outputs": [
        {
          "output_type": "execute_result",
          "data": {
            "text/plain": [
              "(196, 2)"
            ]
          },
          "metadata": {},
          "execution_count": 104
        }
      ]
    },
    {
      "cell_type": "code",
      "source": [
        "# Verificando 5 primeiras e últimas linhas\n",
        "\n",
        "base_dados.head(), base_dados.tail()"
      ],
      "metadata": {
        "colab": {
          "base_uri": "https://localhost:8080/"
        },
        "id": "ciY61JpMdhuF",
        "outputId": "db220849-c346-43a0-ae8d-04e5d3ba6182"
      },
      "execution_count": 105,
      "outputs": [
        {
          "output_type": "execute_result",
          "data": {
            "text/plain": [
              "(                             texto   emocao\n",
              " 0        este trabalho é agradável  alegria\n",
              " 1  gosto de ficar no seu aconchego  alegria\n",
              " 2       fiz a adesão ao curso hoje  alegria\n",
              " 3       eu sou admirada por muitos  alegria\n",
              " 4                  adoro como você  alegria,\n",
              "                                                  texto emocao\n",
              " 191  estou chocado e amedrontado com este assassina...   medo\n",
              " 192  é preciso afugenta com ímpeto este medo do inf...   medo\n",
              " 193  políticos usam suas forças para afugentar e am...   medo\n",
              " 194       o objetivo disso e apenas me amedrontar mais   medo\n",
              " 195                                    isso me apavora   medo)"
            ]
          },
          "metadata": {},
          "execution_count": 105
        }
      ]
    },
    {
      "cell_type": "code",
      "source": [
        "# Contagem de frases de medo e alegria\n",
        "\n",
        "base_dados['emocao'].value_counts()"
      ],
      "metadata": {
        "colab": {
          "base_uri": "https://localhost:8080/"
        },
        "id": "ogpyeO1wdxZJ",
        "outputId": "571d647a-6885-4fd6-94c8-935af2017156"
      },
      "execution_count": 106,
      "outputs": [
        {
          "output_type": "execute_result",
          "data": {
            "text/plain": [
              "alegria    112\n",
              "medo        84\n",
              "Name: emocao, dtype: int64"
            ]
          },
          "metadata": {},
          "execution_count": 106
        }
      ]
    },
    {
      "cell_type": "code",
      "source": [
        "# Contagem de frases de medo e alegria usando Seaborn\n",
        "\n",
        "sns.countplot(base_dados['emocao'], label= 'Contagem de emoção');"
      ],
      "metadata": {
        "colab": {
          "base_uri": "https://localhost:8080/",
          "height": 449
        },
        "id": "3M_R5Xjwd9PV",
        "outputId": "8ad0685e-6ea8-48e2-a2bf-4ad89d6d6c60"
      },
      "execution_count": 107,
      "outputs": [
        {
          "output_type": "display_data",
          "data": {
            "text/plain": [
              "<Figure size 640x480 with 1 Axes>"
            ],
            "image/png": "[encoded data removed]"
          },
          "metadata": {}
        }
      ]
    },
    {
      "cell_type": "markdown",
      "source": [
        "# Função para pré-processamento dos textos"
      ],
      "metadata": {
        "id": "QHO5aCq8MZD8"
      }
    },
    {
      "cell_type": "code",
      "source": [
        "# Armazenando todas as possíveis acentuações em um variável\n",
        "\n",
        "pontuacoes = string.punctuation\n",
        "pontuacoes"
      ],
      "metadata": {
        "colab": {
          "base_uri": "https://localhost:8080/",
          "height": 35
        },
        "id": "JEIuJ1zKMeAB",
        "outputId": "9cff5022-4853-47d0-9d6b-45af4b8e3308"
      },
      "execution_count": 108,
      "outputs": [
        {
          "output_type": "execute_result",
          "data": {
            "text/plain": [
              "'!\"#$%&\\'()*+,-./:;<=>?@[\\\\]^_`{|}~'"
            ],
            "application/vnd.google.colaboratory.intrinsic+json": {
              "type": "string"
            }
          },
          "metadata": {},
          "execution_count": 108
        }
      ]
    },
    {
      "cell_type": "code",
      "source": [
        "# Armazenando todas as stop words em uma variável\n",
        "\n",
        "stop_words = STOP_WORDS\n",
        "print(stop_words)"
      ],
      "metadata": {
        "colab": {
          "base_uri": "https://localhost:8080/"
        },
        "id": "AMUSUtN0NLIu",
        "outputId": "6d6a529b-3964-463f-fbcb-f545f5eb4d08"
      },
      "execution_count": 109,
      "outputs": [
        {
          "output_type": "stream",
          "name": "stdout",
          "text": [
            "{'portanto', 'depois', 'estar', 'estás', 'sete', 'daquela', 'saber', 'lado', 'e', 'apenas', 'dezanove', 'vocês', 'dos', 'estou', 'cujo', 'não', 'entre', 'teu', 'neste', 'ligado', 'à', 'quinze', 'uns', 'foram', 'menos', 'tais', 'esteve', 'naquele', 'toda', 'de', 'minha', 'este', 'vindo', 'fez', 'final', 'poderá', 'pontos', 'ambas', 'inicio', 'teve', 'você', 'vinte', 'inclusive', 'perto', 'tão', 'eventual', 'pode', 'número', 'sexto', 'tarde', 'foi', 'tempo', 'breve', 'sei', 'grandes', 'atrás', 'debaixo', 'quando', 'vai', 'segunda', 'sistema', 'fora', 'maior', 'nesta', 'quer', 'também', 'nosso', 'tivestes', 'só', 'ele', 'quais', 'ora', 'aqueles', 'embora', 'tiveste', 'a', 'zero', 'pelas', 'o', 'põe', 'tentaram', 'des', 'mas', 'fazes', 'baixo', 'nuns', 'desde', 'novas', 'teus', 'último', 'antes', 'for', 'uma', 'onze', 'ter', 'porém', 'contudo', 'diz', 'para', 'meu', 'é', 'nossa', 'ser', 'vossos', 'muitos', 'possível', 'quê', 'então', 'sexta', 'estive', 'após', 'das', 'sobre', 'meses', 'por', 'pelos', 'quanto', 'no', 'vossa', 'esses', 'maioria', 'umas', 'vais', 'aquela', 'temos', 'terceiro', 'estiveste', 'tal', 'esse', 'duas', 'eu', 'faz', 'geral', 'doze', 'cá', 'vens', 'números', 'dizer', 'querem', 'tivemos', 'certeza', 'dessa', 'nada', 'tem', 'próprio', 'vez', 'posição', 'fará', 'fazeis', 'qual', 'dezasseis', 'têm', 'aquilo', 'conhecido', 'custa', 'cinco', 'estava', 'coisa', 'cada', 'te', 'corrente', 'momento', 'falta', 'local', 'ela', 'oito', 'máximo', 'diante', 'vários', 'sabe', 'quieto', 'dentro', 'oitava', 'mil', 'tentei', 'novos', 'fazer', 'pouco', 'lá', 'nova', 'tenho', 'lugar', 'meus', 'do', 'três', 'onde', 'partir', 'estado', 'nos', 'sempre', 'fazia', 'irá', 'apontar', 'vós', 'dá', 'com', 'como', 'nove', 'treze', 'da', 'devem', 'dizem', 'povo', 'tipo', 'isso', 'tentar', 'certamente', 'lhe', 'me', 'aos', 'parece', 'usa', 'vão', 'tiveram', 'seis', 'muito', 'fostes', 'as', 'iniciar', 'seu', 'fazemos', 'foste', 'logo', 'segundo', 'sétima', 'estará', 'seus', 'em', 'até', 'através', 'algumas', 'vêm', 'obrigado', 'bom', 'valor', 'conhecida', 'veja', 'tua', 'todas', 'mesmo', 'conselho', 'relação', 'seria', 'deverá', 'nesse', 'fui', 'somente', 'favor', 'nenhuma', 'sois', 'ponto', 'são', 'próximo', 'eles', 'somos', 'novo', 'ontem', 'terceira', 'que', 'nas', 'grupo', 'forma', 'fim', 'quero', 'vinda', 'qualquer', 'contra', 'talvez', 'um', 'área', 'ali', 'vezes', 'nossas', 'pegar', 'dezoito', 'questão', 'dez', 'essas', 'estão', 'nível', 'pôde', 'naquela', 'boa', 'daquele', 'disso', 'mal', 'tuas', 'dar', 'cedo', 'quinto', 'aí', 'apoia', 'vossas', 'aqui', 'deste', 'nossos', 'sem', 'às', 'põem', 'outra', 'sim', 'bem', 'podem', 'ou', 'demais', 'quinta', 'oitavo', 'comprido', 'bastante', 'elas', 'acerca', 'estes', 'menor', 'tudo', 'maiorias', 'outros', 'outras', 'quem', 'sétimo', 'isto', 'exemplo', 'essa', 'usar', 'nunca', 'posso', 'cima', 'tanto', 'ainda', 'tanta', 'próxima', 'nem', 'os', 'quarta', 'além', 'adeus', 'desta', 'alguns', 'obrigada', 'porque', 'vem', 'apoio', 'desse', 'fomos', 'estiveram', 'meio', 'agora', 'tu', 'quarto', 'grande', 'numa', 'nós', 'cento', 'todos', 'vos', 'quieta', 'assim', 'sob', 'faço', 'era', 'porquanto', 'dois', 'tens', 'aquelas', 'se', 'catorze', 'num', 'puderam', 'minhas', 'dezassete', 'nessa', 'primeiro', 'aquele', 'tendes', 'primeira', 'comprida', 'caminho', 'todo', 'parte', 'sua', 'dão', 'fazem', 'esta', 'és', 'porquê', 'pelo', 'tente', 'direita', 'possivelmente', 'pouca', 'ver', 'pois', 'suas', 'ambos', 'quatro', 'deve', 'estivestes', 'vosso', 'está', 'pela', 'ao', 'ademais', 'longe', 'podia', 'cuja', 'sou', 'tive', 'ir', 'estas', 'estivemos', 'poder', 'mais', 'algo', 'na', 'mês', 'já', 'enquanto'}\n"
          ]
        }
      ]
    },
    {
      "cell_type": "code",
      "source": [
        "# Criando modelo de processamento de palavras\n",
        "\n",
        "pln = spacy.load('pt_core_news_sm')\n",
        "pln"
      ],
      "metadata": {
        "colab": {
          "base_uri": "https://localhost:8080/"
        },
        "id": "gAGDn8enNnXQ",
        "outputId": "71f32427-f8a0-4d33-d3db-3d75a193f69e"
      },
      "execution_count": 110,
      "outputs": [
        {
          "output_type": "execute_result",
          "data": {
            "text/plain": [
              "<spacy.lang.pt.Portuguese at 0x7e83b9877a60>"
            ]
          },
          "metadata": {},
          "execution_count": 110
        }
      ]
    },
    {
      "cell_type": "code",
      "source": [
        "# texto teste\n",
        "\n",
        "teste = 'Estou aPrendendo 1 489 987processamento de linguagem natural. Curso em Orlândia'"
      ],
      "metadata": {
        "id": "5NOJULm_O4KB"
      },
      "execution_count": 111,
      "outputs": []
    },
    {
      "cell_type": "code",
      "source": [
        "# Função de pré-processamento\n",
        "\n",
        "def preprocessamento(texto):\n",
        "    \"\"\"\n",
        "    This function performs text preprocessing for natural language processing (NLP) purposes. The preprocessing steps include:\n",
        "\n",
        "    Lowercasing: Converts all text to lowercase letters to avoid case-sensitivity issues.\n",
        "    Tokenization: Splits the text into tokens, which are basic units of analysis, such as words, punctuation, and numbers.\n",
        "    Lemmatization: Converts each word to its canonical form (lemma), which is the basic form of the word without grammatical inflections.\n",
        "    Stop word removal: Removes common words that do not contribute to the meaning of the text, such as \"a\", \"the\", \"of\", \"to\", etc.\n",
        "    Punctuation removal: Removes punctuation symbols, such as commas, periods, parentheses, etc.\n",
        "    Number removal: Removes numbers from the text.\n",
        "\n",
        "    **Parameters**:\n",
        "    text: A string text that will be preprocessed.\n",
        "\n",
        "    **Returns**:\n",
        "    A list of strings that contains the preprocessed tokens of the text. \"\"\"\n",
        "\n",
        "    texto = texto.lower() # convertendo o texto string para minúsculo\n",
        "    documento = pln(texto) # convertendo a váriavel string que veio do parâmetro\n",
        "    lista = []\n",
        "\n",
        "    # percorrendo o documento\n",
        "    for token in documento:\n",
        "        lista.append(token.lemma_) # adicionando os lemma\n",
        "\n",
        "    lista = [palavra for palavra in lista if palavra not in stop_words and palavra not in pontuacoes] # removendo as stop words e pontuações\n",
        "    lista = ' '.join([str(elemento) for elemento in lista if not elemento.isdigit()]) # removendo possíveis números e retornando tudo na mesma linha no formato string\n",
        "\n",
        "    return lista"
      ],
      "metadata": {
        "id": "h4yFB5yFPDJ7"
      },
      "execution_count": 112,
      "outputs": []
    },
    {
      "cell_type": "markdown",
      "source": [
        "# Pré-processamento da base de dados"
      ],
      "metadata": {
        "id": "XWM0ZdPDSTf7"
      }
    },
    {
      "cell_type": "markdown",
      "source": [
        "## Limpeza dos textos"
      ],
      "metadata": {
        "id": "_1F7SWj1jwlw"
      }
    },
    {
      "cell_type": "code",
      "source": [
        "# Base de dados antes de aplicar a função\n",
        "\n",
        "base_dados.head()"
      ],
      "metadata": {
        "colab": {
          "base_uri": "https://localhost:8080/",
          "height": 206
        },
        "id": "JgMqvoJzknG-",
        "outputId": "ccba71df-6f0c-420e-fd7d-39756749243c"
      },
      "execution_count": 113,
      "outputs": [
        {
          "output_type": "execute_result",
          "data": {
            "text/plain": [
              "                             texto   emocao\n",
              "0        este trabalho é agradável  alegria\n",
              "1  gosto de ficar no seu aconchego  alegria\n",
              "2       fiz a adesão ao curso hoje  alegria\n",
              "3       eu sou admirada por muitos  alegria\n",
              "4                  adoro como você  alegria"
            ],
            "text/html": [
              "\n",
              "  <div id=\"df-8d9ba43b-f7ea-4fcd-aac0-22f158c19550\" class=\"colab-df-container\">\n",
              "    <div>\n",
              "<style scoped>\n",
              "    .dataframe tbody tr th:only-of-type {\n",
              "        vertical-align: middle;\n",
              "    }\n",
              "\n",
              "    .dataframe tbody tr th {\n",
              "        vertical-align: top;\n",
              "    }\n",
              "\n",
              "    .dataframe thead th {\n",
              "        text-align: right;\n",
              "    }\n",
              "</style>\n",
              "<table border=\"1\" class=\"dataframe\">\n",
              "  <thead>\n",
              "    <tr style=\"text-align: right;\">\n",
              "      <th></th>\n",
              "      <th>texto</th>\n",
              "      <th>emocao</th>\n",
              "    </tr>\n",
              "  </thead>\n",
              "  <tbody>\n",
              "    <tr>\n",
              "      <th>0</th>\n",
              "      <td>este trabalho é agradável</td>\n",
              "      <td>alegria</td>\n",
              "    </tr>\n",
              "    <tr>\n",
              "      <th>1</th>\n",
              "      <td>gosto de ficar no seu aconchego</td>\n",
              "      <td>alegria</td>\n",
              "    </tr>\n",
              "    <tr>\n",
              "      <th>2</th>\n",
              "      <td>fiz a adesão ao curso hoje</td>\n",
              "      <td>alegria</td>\n",
              "    </tr>\n",
              "    <tr>\n",
              "      <th>3</th>\n",
              "      <td>eu sou admirada por muitos</td>\n",
              "      <td>alegria</td>\n",
              "    </tr>\n",
              "    <tr>\n",
              "      <th>4</th>\n",
              "      <td>adoro como você</td>\n",
              "      <td>alegria</td>\n",
              "    </tr>\n",
              "  </tbody>\n",
              "</table>\n",
              "</div>\n",
              "    <div class=\"colab-df-buttons\">\n",
              "\n",
              "  <div class=\"colab-df-container\">\n",
              "    <button class=\"colab-df-convert\" onclick=\"convertToInteractive('df-8d9ba43b-f7ea-4fcd-aac0-22f158c19550')\"\n",
              "            title=\"Convert this dataframe to an interactive table.\"\n",
              "            style=\"display:none;\">\n",
              "\n",
              "  <svg xmlns=\"http://www.w3.org/2000/svg\" height=\"24px\" viewBox=\"0 -960 960 960\">\n",
              "    <path d=\"M120-120v-720h720v720H120Zm60-500h600v-160H180v160Zm220 220h160v-160H400v160Zm0 220h160v-160H400v160ZM180-400h160v-160H180v160Zm440 0h160v-160H620v160ZM180-180h160v-160H180v160Zm440 0h160v-160H620v160Z\"/>\n",
              "  </svg>\n",
              "    </button>\n",
              "\n",
              "  <style>\n",
              "    .colab-df-container {\n",
              "      display:flex;\n",
              "      gap: 12px;\n",
              "    }\n",
              "\n",
              "    .colab-df-convert {\n",
              "      background-color: #E8F0FE;\n",
              "      border: none;\n",
              "      border-radius: 50%;\n",
              "      cursor: pointer;\n",
              "      display: none;\n",
              "      fill: #1967D2;\n",
              "      height: 32px;\n",
              "      padding: 0 0 0 0;\n",
              "      width: 32px;\n",
              "    }\n",
              "\n",
              "    .colab-df-convert:hover {\n",
              "      background-color: #E2EBFA;\n",
              "      box-shadow: 0px 1px 2px rgba(60, 64, 67, 0.3), 0px 1px 3px 1px rgba(60, 64, 67, 0.15);\n",
              "      fill: #174EA6;\n",
              "    }\n",
              "\n",
              "    .colab-df-buttons div {\n",
              "      margin-bottom: 4px;\n",
              "    }\n",
              "\n",
              "    [theme=dark] .colab-df-convert {\n",
              "      background-color: #3B4455;\n",
              "      fill: #D2E3FC;\n",
              "    }\n",
              "\n",
              "    [theme=dark] .colab-df-convert:hover {\n",
              "      background-color: #434B5C;\n",
              "      box-shadow: 0px 1px 3px 1px rgba(0, 0, 0, 0.15);\n",
              "      filter: drop-shadow(0px 1px 2px rgba(0, 0, 0, 0.3));\n",
              "      fill: #FFFFFF;\n",
              "    }\n",
              "  </style>\n",
              "\n",
              "    <script>\n",
              "      const buttonEl =\n",
              "        document.querySelector('#df-8d9ba43b-f7ea-4fcd-aac0-22f158c19550 button.colab-df-convert');\n",
              "      buttonEl.style.display =\n",
              "        google.colab.kernel.accessAllowed ? 'block' : 'none';\n",
              "\n",
              "      async function convertToInteractive(key) {\n",
              "        const element = document.querySelector('#df-8d9ba43b-f7ea-4fcd-aac0-22f158c19550');\n",
              "        const dataTable =\n",
              "          await google.colab.kernel.invokeFunction('convertToInteractive',\n",
              "                                                    [key], {});\n",
              "        if (!dataTable) return;\n",
              "\n",
              "        const docLinkHtml = 'Like what you see? Visit the ' +\n",
              "          '<a target=\"_blank\" href=https://colab.research.google.com/notebooks/data_table.ipynb>data table notebook</a>'\n",
              "          + ' to learn more about interactive tables.';\n",
              "        element.innerHTML = '';\n",
              "        dataTable['output_type'] = 'display_data';\n",
              "        await google.colab.output.renderOutput(dataTable, element);\n",
              "        const docLink = document.createElement('div');\n",
              "        docLink.innerHTML = docLinkHtml;\n",
              "        element.appendChild(docLink);\n",
              "      }\n",
              "    </script>\n",
              "  </div>\n",
              "\n",
              "\n",
              "<div id=\"df-70879687-b7d0-4315-aa10-e69b01379e4d\">\n",
              "  <button class=\"colab-df-quickchart\" onclick=\"quickchart('df-70879687-b7d0-4315-aa10-e69b01379e4d')\"\n",
              "            title=\"Suggest charts\"\n",
              "            style=\"display:none;\">\n",
              "\n",
              "<svg xmlns=\"http://www.w3.org/2000/svg\" height=\"24px\"viewBox=\"0 0 24 24\"\n",
              "     width=\"24px\">\n",
              "    <g>\n",
              "        <path d=\"M19 3H5c-1.1 0-2 .9-2 2v14c0 1.1.9 2 2 2h14c1.1 0 2-.9 2-2V5c0-1.1-.9-2-2-2zM9 17H7v-7h2v7zm4 0h-2V7h2v10zm4 0h-2v-4h2v4z\"/>\n",
              "    </g>\n",
              "</svg>\n",
              "  </button>\n",
              "\n",
              "<style>\n",
              "  .colab-df-quickchart {\n",
              "      --bg-color: #E8F0FE;\n",
              "      --fill-color: #1967D2;\n",
              "      --hover-bg-color: #E2EBFA;\n",
              "      --hover-fill-color: #174EA6;\n",
              "      --disabled-fill-color: #AAA;\n",
              "      --disabled-bg-color: #DDD;\n",
              "  }\n",
              "\n",
              "  [theme=dark] .colab-df-quickchart {\n",
              "      --bg-color: #3B4455;\n",
              "      --fill-color: #D2E3FC;\n",
              "      --hover-bg-color: #434B5C;\n",
              "      --hover-fill-color: #FFFFFF;\n",
              "      --disabled-bg-color: #3B4455;\n",
              "      --disabled-fill-color: #666;\n",
              "  }\n",
              "\n",
              "  .colab-df-quickchart {\n",
              "    background-color: var(--bg-color);\n",
              "    border: none;\n",
              "    border-radius: 50%;\n",
              "    cursor: pointer;\n",
              "    display: none;\n",
              "    fill: var(--fill-color);\n",
              "    height: 32px;\n",
              "    padding: 0;\n",
              "    width: 32px;\n",
              "  }\n",
              "\n",
              "  .colab-df-quickchart:hover {\n",
              "    background-color: var(--hover-bg-color);\n",
              "    box-shadow: 0 1px 2px rgba(60, 64, 67, 0.3), 0 1px 3px 1px rgba(60, 64, 67, 0.15);\n",
              "    fill: var(--button-hover-fill-color);\n",
              "  }\n",
              "\n",
              "  .colab-df-quickchart-complete:disabled,\n",
              "  .colab-df-quickchart-complete:disabled:hover {\n",
              "    background-color: var(--disabled-bg-color);\n",
              "    fill: var(--disabled-fill-color);\n",
              "    box-shadow: none;\n",
              "  }\n",
              "\n",
              "  .colab-df-spinner {\n",
              "    border: 2px solid var(--fill-color);\n",
              "    border-color: transparent;\n",
              "    border-bottom-color: var(--fill-color);\n",
              "    animation:\n",
              "      spin 1s steps(1) infinite;\n",
              "  }\n",
              "\n",
              "  @keyframes spin {\n",
              "    0% {\n",
              "      border-color: transparent;\n",
              "      border-bottom-color: var(--fill-color);\n",
              "      border-left-color: var(--fill-color);\n",
              "    }\n",
              "    20% {\n",
              "      border-color: transparent;\n",
              "      border-left-color: var(--fill-color);\n",
              "      border-top-color: var(--fill-color);\n",
              "    }\n",
              "    30% {\n",
              "      border-color: transparent;\n",
              "      border-left-color: var(--fill-color);\n",
              "      border-top-color: var(--fill-color);\n",
              "      border-right-color: var(--fill-color);\n",
              "    }\n",
              "    40% {\n",
              "      border-color: transparent;\n",
              "      border-right-color: var(--fill-color);\n",
              "      border-top-color: var(--fill-color);\n",
              "    }\n",
              "    60% {\n",
              "      border-color: transparent;\n",
              "      border-right-color: var(--fill-color);\n",
              "    }\n",
              "    80% {\n",
              "      border-color: transparent;\n",
              "      border-right-color: var(--fill-color);\n",
              "      border-bottom-color: var(--fill-color);\n",
              "    }\n",
              "    90% {\n",
              "      border-color: transparent;\n",
              "      border-bottom-color: var(--fill-color);\n",
              "    }\n",
              "  }\n",
              "</style>\n",
              "\n",
              "  <script>\n",
              "    async function quickchart(key) {\n",
              "      const quickchartButtonEl =\n",
              "        document.querySelector('#' + key + ' button');\n",
              "      quickchartButtonEl.disabled = true;  // To prevent multiple clicks.\n",
              "      quickchartButtonEl.classList.add('colab-df-spinner');\n",
              "      try {\n",
              "        const charts = await google.colab.kernel.invokeFunction(\n",
              "            'suggestCharts', [key], {});\n",
              "      } catch (error) {\n",
              "        console.error('Error during call to suggestCharts:', error);\n",
              "      }\n",
              "      quickchartButtonEl.classList.remove('colab-df-spinner');\n",
              "      quickchartButtonEl.classList.add('colab-df-quickchart-complete');\n",
              "    }\n",
              "    (() => {\n",
              "      let quickchartButtonEl =\n",
              "        document.querySelector('#df-70879687-b7d0-4315-aa10-e69b01379e4d button');\n",
              "      quickchartButtonEl.style.display =\n",
              "        google.colab.kernel.accessAllowed ? 'block' : 'none';\n",
              "    })();\n",
              "  </script>\n",
              "</div>\n",
              "\n",
              "    </div>\n",
              "  </div>\n"
            ]
          },
          "metadata": {},
          "execution_count": 113
        }
      ]
    },
    {
      "cell_type": "code",
      "source": [
        "# Aplicando a função de pré-processamento na coluna de texto\n",
        "\n",
        "base_dados['texto'] = base_dados['texto'].apply(preprocessamento)"
      ],
      "metadata": {
        "id": "at3Bj2jmjzlN"
      },
      "execution_count": 114,
      "outputs": []
    },
    {
      "cell_type": "code",
      "source": [
        "# Depois da aplicação da função\n",
        "\n",
        "base_dados.head()"
      ],
      "metadata": {
        "colab": {
          "base_uri": "https://localhost:8080/",
          "height": 206
        },
        "id": "u0LemnNOkhaU",
        "outputId": "8e41f104-0441-4534-ee9f-5da34f1b3953"
      },
      "execution_count": 115,
      "outputs": [
        {
          "output_type": "execute_result",
          "data": {
            "text/plain": [
              "                        texto   emocao\n",
              "0          trabalho agradável  alegria\n",
              "1  gosto ficar em o aconchego  alegria\n",
              "2   fiz adesão a o curso hoje  alegria\n",
              "3                     admirar  alegria\n",
              "4                      adorar  alegria"
            ],
            "text/html": [
              "\n",
              "  <div id=\"df-07d01022-a8f9-4479-9c8f-b090aa238459\" class=\"colab-df-container\">\n",
              "    <div>\n",
              "<style scoped>\n",
              "    .dataframe tbody tr th:only-of-type {\n",
              "        vertical-align: middle;\n",
              "    }\n",
              "\n",
              "    .dataframe tbody tr th {\n",
              "        vertical-align: top;\n",
              "    }\n",
              "\n",
              "    .dataframe thead th {\n",
              "        text-align: right;\n",
              "    }\n",
              "</style>\n",
              "<table border=\"1\" class=\"dataframe\">\n",
              "  <thead>\n",
              "    <tr style=\"text-align: right;\">\n",
              "      <th></th>\n",
              "      <th>texto</th>\n",
              "      <th>emocao</th>\n",
              "    </tr>\n",
              "  </thead>\n",
              "  <tbody>\n",
              "    <tr>\n",
              "      <th>0</th>\n",
              "      <td>trabalho agradável</td>\n",
              "      <td>alegria</td>\n",
              "    </tr>\n",
              "    <tr>\n",
              "      <th>1</th>\n",
              "      <td>gosto ficar em o aconchego</td>\n",
              "      <td>alegria</td>\n",
              "    </tr>\n",
              "    <tr>\n",
              "      <th>2</th>\n",
              "      <td>fiz adesão a o curso hoje</td>\n",
              "      <td>alegria</td>\n",
              "    </tr>\n",
              "    <tr>\n",
              "      <th>3</th>\n",
              "      <td>admirar</td>\n",
              "      <td>alegria</td>\n",
              "    </tr>\n",
              "    <tr>\n",
              "      <th>4</th>\n",
              "      <td>adorar</td>\n",
              "      <td>alegria</td>\n",
              "    </tr>\n",
              "  </tbody>\n",
              "</table>\n",
              "</div>\n",
              "    <div class=\"colab-df-buttons\">\n",
              "\n",
              "  <div class=\"colab-df-container\">\n",
              "    <button class=\"colab-df-convert\" onclick=\"convertToInteractive('df-07d01022-a8f9-4479-9c8f-b090aa238459')\"\n",
              "            title=\"Convert this dataframe to an interactive table.\"\n",
              "            style=\"display:none;\">\n",
              "\n",
              "  <svg xmlns=\"http://www.w3.org/2000/svg\" height=\"24px\" viewBox=\"0 -960 960 960\">\n",
              "    <path d=\"M120-120v-720h720v720H120Zm60-500h600v-160H180v160Zm220 220h160v-160H400v160Zm0 220h160v-160H400v160ZM180-400h160v-160H180v160Zm440 0h160v-160H620v160ZM180-180h160v-160H180v160Zm440 0h160v-160H620v160Z\"/>\n",
              "  </svg>\n",
              "    </button>\n",
              "\n",
              "  <style>\n",
              "    .colab-df-container {\n",
              "      display:flex;\n",
              "      gap: 12px;\n",
              "    }\n",
              "\n",
              "    .colab-df-convert {\n",
              "      background-color: #E8F0FE;\n",
              "      border: none;\n",
              "      border-radius: 50%;\n",
              "      cursor: pointer;\n",
              "      display: none;\n",
              "      fill: #1967D2;\n",
              "      height: 32px;\n",
              "      padding: 0 0 0 0;\n",
              "      width: 32px;\n",
              "    }\n",
              "\n",
              "    .colab-df-convert:hover {\n",
              "      background-color: #E2EBFA;\n",
              "      box-shadow: 0px 1px 2px rgba(60, 64, 67, 0.3), 0px 1px 3px 1px rgba(60, 64, 67, 0.15);\n",
              "      fill: #174EA6;\n",
              "    }\n",
              "\n",
              "    .colab-df-buttons div {\n",
              "      margin-bottom: 4px;\n",
              "    }\n",
              "\n",
              "    [theme=dark] .colab-df-convert {\n",
              "      background-color: #3B4455;\n",
              "      fill: #D2E3FC;\n",
              "    }\n",
              "\n",
              "    [theme=dark] .colab-df-convert:hover {\n",
              "      background-color: #434B5C;\n",
              "      box-shadow: 0px 1px 3px 1px rgba(0, 0, 0, 0.15);\n",
              "      filter: drop-shadow(0px 1px 2px rgba(0, 0, 0, 0.3));\n",
              "      fill: #FFFFFF;\n",
              "    }\n",
              "  </style>\n",
              "\n",
              "    <script>\n",
              "      const buttonEl =\n",
              "        document.querySelector('#df-07d01022-a8f9-4479-9c8f-b090aa238459 button.colab-df-convert');\n",
              "      buttonEl.style.display =\n",
              "        google.colab.kernel.accessAllowed ? 'block' : 'none';\n",
              "\n",
              "      async function convertToInteractive(key) {\n",
              "        const element = document.querySelector('#df-07d01022-a8f9-4479-9c8f-b090aa238459');\n",
              "        const dataTable =\n",
              "          await google.colab.kernel.invokeFunction('convertToInteractive',\n",
              "                                                    [key], {});\n",
              "        if (!dataTable) return;\n",
              "\n",
              "        const docLinkHtml = 'Like what you see? Visit the ' +\n",
              "          '<a target=\"_blank\" href=https://colab.research.google.com/notebooks/data_table.ipynb>data table notebook</a>'\n",
              "          + ' to learn more about interactive tables.';\n",
              "        element.innerHTML = '';\n",
              "        dataTable['output_type'] = 'display_data';\n",
              "        await google.colab.output.renderOutput(dataTable, element);\n",
              "        const docLink = document.createElement('div');\n",
              "        docLink.innerHTML = docLinkHtml;\n",
              "        element.appendChild(docLink);\n",
              "      }\n",
              "    </script>\n",
              "  </div>\n",
              "\n",
              "\n",
              "<div id=\"df-cc939bf9-c2a3-4e76-a8f1-d3bad4da410e\">\n",
              "  <button class=\"colab-df-quickchart\" onclick=\"quickchart('df-cc939bf9-c2a3-4e76-a8f1-d3bad4da410e')\"\n",
              "            title=\"Suggest charts\"\n",
              "            style=\"display:none;\">\n",
              "\n",
              "<svg xmlns=\"http://www.w3.org/2000/svg\" height=\"24px\"viewBox=\"0 0 24 24\"\n",
              "     width=\"24px\">\n",
              "    <g>\n",
              "        <path d=\"M19 3H5c-1.1 0-2 .9-2 2v14c0 1.1.9 2 2 2h14c1.1 0 2-.9 2-2V5c0-1.1-.9-2-2-2zM9 17H7v-7h2v7zm4 0h-2V7h2v10zm4 0h-2v-4h2v4z\"/>\n",
              "    </g>\n",
              "</svg>\n",
              "  </button>\n",
              "\n",
              "<style>\n",
              "  .colab-df-quickchart {\n",
              "      --bg-color: #E8F0FE;\n",
              "      --fill-color: #1967D2;\n",
              "      --hover-bg-color: #E2EBFA;\n",
              "      --hover-fill-color: #174EA6;\n",
              "      --disabled-fill-color: #AAA;\n",
              "      --disabled-bg-color: #DDD;\n",
              "  }\n",
              "\n",
              "  [theme=dark] .colab-df-quickchart {\n",
              "      --bg-color: #3B4455;\n",
              "      --fill-color: #D2E3FC;\n",
              "      --hover-bg-color: #434B5C;\n",
              "      --hover-fill-color: #FFFFFF;\n",
              "      --disabled-bg-color: #3B4455;\n",
              "      --disabled-fill-color: #666;\n",
              "  }\n",
              "\n",
              "  .colab-df-quickchart {\n",
              "    background-color: var(--bg-color);\n",
              "    border: none;\n",
              "    border-radius: 50%;\n",
              "    cursor: pointer;\n",
              "    display: none;\n",
              "    fill: var(--fill-color);\n",
              "    height: 32px;\n",
              "    padding: 0;\n",
              "    width: 32px;\n",
              "  }\n",
              "\n",
              "  .colab-df-quickchart:hover {\n",
              "    background-color: var(--hover-bg-color);\n",
              "    box-shadow: 0 1px 2px rgba(60, 64, 67, 0.3), 0 1px 3px 1px rgba(60, 64, 67, 0.15);\n",
              "    fill: var(--button-hover-fill-color);\n",
              "  }\n",
              "\n",
              "  .colab-df-quickchart-complete:disabled,\n",
              "  .colab-df-quickchart-complete:disabled:hover {\n",
              "    background-color: var(--disabled-bg-color);\n",
              "    fill: var(--disabled-fill-color);\n",
              "    box-shadow: none;\n",
              "  }\n",
              "\n",
              "  .colab-df-spinner {\n",
              "    border: 2px solid var(--fill-color);\n",
              "    border-color: transparent;\n",
              "    border-bottom-color: var(--fill-color);\n",
              "    animation:\n",
              "      spin 1s steps(1) infinite;\n",
              "  }\n",
              "\n",
              "  @keyframes spin {\n",
              "    0% {\n",
              "      border-color: transparent;\n",
              "      border-bottom-color: var(--fill-color);\n",
              "      border-left-color: var(--fill-color);\n",
              "    }\n",
              "    20% {\n",
              "      border-color: transparent;\n",
              "      border-left-color: var(--fill-color);\n",
              "      border-top-color: var(--fill-color);\n",
              "    }\n",
              "    30% {\n",
              "      border-color: transparent;\n",
              "      border-left-color: var(--fill-color);\n",
              "      border-top-color: var(--fill-color);\n",
              "      border-right-color: var(--fill-color);\n",
              "    }\n",
              "    40% {\n",
              "      border-color: transparent;\n",
              "      border-right-color: var(--fill-color);\n",
              "      border-top-color: var(--fill-color);\n",
              "    }\n",
              "    60% {\n",
              "      border-color: transparent;\n",
              "      border-right-color: var(--fill-color);\n",
              "    }\n",
              "    80% {\n",
              "      border-color: transparent;\n",
              "      border-right-color: var(--fill-color);\n",
              "      border-bottom-color: var(--fill-color);\n",
              "    }\n",
              "    90% {\n",
              "      border-color: transparent;\n",
              "      border-bottom-color: var(--fill-color);\n",
              "    }\n",
              "  }\n",
              "</style>\n",
              "\n",
              "  <script>\n",
              "    async function quickchart(key) {\n",
              "      const quickchartButtonEl =\n",
              "        document.querySelector('#' + key + ' button');\n",
              "      quickchartButtonEl.disabled = true;  // To prevent multiple clicks.\n",
              "      quickchartButtonEl.classList.add('colab-df-spinner');\n",
              "      try {\n",
              "        const charts = await google.colab.kernel.invokeFunction(\n",
              "            'suggestCharts', [key], {});\n",
              "      } catch (error) {\n",
              "        console.error('Error during call to suggestCharts:', error);\n",
              "      }\n",
              "      quickchartButtonEl.classList.remove('colab-df-spinner');\n",
              "      quickchartButtonEl.classList.add('colab-df-quickchart-complete');\n",
              "    }\n",
              "    (() => {\n",
              "      let quickchartButtonEl =\n",
              "        document.querySelector('#df-cc939bf9-c2a3-4e76-a8f1-d3bad4da410e button');\n",
              "      quickchartButtonEl.style.display =\n",
              "        google.colab.kernel.accessAllowed ? 'block' : 'none';\n",
              "    })();\n",
              "  </script>\n",
              "</div>\n",
              "\n",
              "    </div>\n",
              "  </div>\n"
            ]
          },
          "metadata": {},
          "execution_count": 115
        }
      ]
    },
    {
      "cell_type": "markdown",
      "source": [
        "## Tratamento de classe"
      ],
      "metadata": {
        "id": "b71iG_fRj0pl"
      }
    },
    {
      "cell_type": "code",
      "source": [
        "# Base de dados exemplo\n",
        "\n",
        "base_exemplo = [[\"este trabalho é adorável\", {\"ALEGRIA\": True, \"MEDO\": False}],\n",
        "                [\"Este lugar continua assustador\", {\"ALEGRIA\": True, \"MEDO\": False}]]\n",
        "\n",
        "print(type(base_exemplo))\n",
        "print(base_exemplo[0])\n",
        "print(base_exemplo[0][0])\n",
        "print(base_exemplo[0][1])\n",
        "print(type(base_exemplo[0][1]))"
      ],
      "metadata": {
        "colab": {
          "base_uri": "https://localhost:8080/"
        },
        "id": "cBvF7lVRj2ut",
        "outputId": "8bbe95b9-4f11-4d99-ae72-a6cd51455d9a"
      },
      "execution_count": 116,
      "outputs": [
        {
          "output_type": "stream",
          "name": "stdout",
          "text": [
            "<class 'list'>\n",
            "['este trabalho é adorável', {'ALEGRIA': True, 'MEDO': False}]\n",
            "este trabalho é adorável\n",
            "{'ALEGRIA': True, 'MEDO': False}\n",
            "<class 'dict'>\n"
          ]
        }
      ]
    },
    {
      "cell_type": "code",
      "source": [
        "# Transformando a base de dados em dicionário\n",
        "\n",
        "base_dados_final = []\n",
        "\n",
        "for texto, emocao in zip(base_dados['texto'], base_dados['emocao']): # precisa ser passado em zip para acessar os dados\n",
        "\n",
        "    if emocao == 'alegria':\n",
        "        dic = {'ALEGRIA': True, 'MEDO': False}\n",
        "\n",
        "    elif emocao == 'medo':\n",
        "        dic = {'ALEGRIA': False, 'MEDO': True}\n",
        "\n",
        "    base_dados_final.append([texto, dic.copy()]) # Adicionando o texto e copiando o respectivo dicionário\n",
        "\n",
        "print(len(base_dados_final))\n",
        "print(base_dados_final[0])"
      ],
      "metadata": {
        "colab": {
          "base_uri": "https://localhost:8080/"
        },
        "id": "iwwiZTsel-ls",
        "outputId": "c89a8db4-84dc-4488-f094-e4cd515c0a0c"
      },
      "execution_count": 117,
      "outputs": [
        {
          "output_type": "stream",
          "name": "stdout",
          "text": [
            "196\n",
            "['trabalho agradável', {'ALEGRIA': True, 'MEDO': False}]\n"
          ]
        }
      ]
    },
    {
      "cell_type": "markdown",
      "source": [
        "# Etapa 5: Criação de um classificador"
      ],
      "metadata": {
        "id": "BUiUddFQndQ_"
      }
    },
    {
      "cell_type": "code",
      "source": [
        "# Inicializando modelo\n",
        "\n",
        "modelo = spacy.blank('pt')\n",
        "textcat = modelo.add_pipe(\"textcat\") # pipeline de classificação de texto\n",
        "\n",
        "# Definindo as categorias de classificação\n",
        "textcat.add_label(\"ALEGRIA\")\n",
        "textcat.add_label(\"MEDO\")\n",
        "historico = []"
      ],
      "metadata": {
        "id": "YxDD2C25nhpE"
      },
      "execution_count": 118,
      "outputs": []
    },
    {
      "cell_type": "code",
      "source": [
        "from spacy.training import Example"
      ],
      "metadata": {
        "id": "5jDEp3tzHi4q"
      },
      "execution_count": 119,
      "outputs": []
    },
    {
      "cell_type": "code",
      "source": [
        "# Definindo epochs e fazendo o treinamento\n",
        "\n",
        "\n",
        "modelo.begin_training() # começa o treinamento do modelo\n",
        "for epoca in range(1000): # laço principal para as épocas\n",
        "\n",
        "    random.shuffle(base_dados_final) # embaralha os dados para evitar memorização\n",
        "    losses = {} # dicionário para armazenar as perdas\n",
        "\n",
        "    # Processa os dados em mini-lotes\n",
        "    for batch in spacy.util.minibatch(base_dados_final, 30):\n",
        "\n",
        "        textos = [modelo(texto) for texto, entities in batch] # Extrai os textos do lote\n",
        "        annotations = [{'cats': entities} for texto, entities in batch] # Cria as anotações para cada texto do lote\n",
        "        examples = [Example.from_dict(doc, annotation) for doc, annotation in zip(textos, annotations)] # converte os textos e annotatios para o tipo objeto Example\n",
        "        modelo.update(examples, losses=losses) # Atualiza o modelo com os exemplos e calcula as perdas\n",
        "\n",
        "    # Imprime as perdas a cada 100 épocas, vai ser imprimido 10 vezes\n",
        "    if epoca % 100 == 0:\n",
        "        print(losses)\n",
        "        historico.append(losses)"
      ],
      "metadata": {
        "colab": {
          "base_uri": "https://localhost:8080/"
        },
        "id": "0sIIA5izEZvU",
        "outputId": "a3c0c469-db96-4c68-81e1-bfb2207673a2"
      },
      "execution_count": 120,
      "outputs": [
        {
          "output_type": "stream",
          "name": "stdout",
          "text": [
            "{'textcat': 1.7084580808877945}\n",
            "{'textcat': 2.230511565379234e-11}\n",
            "{'textcat': 2.839647299853615e-12}\n",
            "{'textcat': 7.753831925757116e-13}\n",
            "{'textcat': 2.7538787358361363e-13}\n",
            "{'textcat': 1.2114174663808942e-13}\n",
            "{'textcat': 6.14971470455476e-14}\n",
            "{'textcat': 3.028180924092574e-14}\n",
            "{'textcat': 1.5353065727321982e-14}\n",
            "{'textcat': 7.018522624245658e-15}\n"
          ]
        }
      ]
    },
    {
      "cell_type": "code",
      "source": [
        "# Extraindo apenas os valores de loss e transforma em um array do numpy\n",
        "\n",
        "historico_loss = []\n",
        "for i in historico:\n",
        "    historico_loss.append(i.get('textcat'))\n",
        "\n",
        "historico_loss = np.array(historico_loss)"
      ],
      "metadata": {
        "id": "KGF_YlbxKKHs"
      },
      "execution_count": 121,
      "outputs": []
    },
    {
      "cell_type": "code",
      "source": [
        "# Plotando gráfico para visualizar progressão de perda\n",
        "\n",
        "plt.plot(historico_loss)\n",
        "plt.title('Progressão do erro')\n",
        "plt.xlabel('Épocas')\n",
        "plt.ylabel('Erro')"
      ],
      "metadata": {
        "colab": {
          "base_uri": "https://localhost:8080/",
          "height": 491
        },
        "id": "xPKHLnmpKwXs",
        "outputId": "3873f420-db7c-4804-de99-67852e617ab2"
      },
      "execution_count": 122,
      "outputs": [
        {
          "output_type": "execute_result",
          "data": {
            "text/plain": [
              "Text(0, 0.5, 'Erro')"
            ]
          },
          "metadata": {},
          "execution_count": 122
        },
        {
          "output_type": "display_data",
          "data": {
            "text/plain": [
              "<Figure size 640x480 with 1 Axes>"
            ],
            "image/png": "[encoded data removed]"
          },
          "metadata": {}
        }
      ]
    },
    {
      "cell_type": "code",
      "source": [
        "# Salvando o modelo já treinado\n",
        "\n",
        "modelo.to_disk(\"modelo\")"
      ],
      "metadata": {
        "id": "mVSZ8WFsK4Du"
      },
      "execution_count": 123,
      "outputs": []
    },
    {
      "cell_type": "markdown",
      "source": [
        "# Etapa 6: Teste com frase"
      ],
      "metadata": {
        "id": "BB8FcHEjLeiI"
      }
    },
    {
      "cell_type": "code",
      "source": [
        "# Carregando modelo que foi salvo no meu Drive\n",
        "\n",
        "modelo_carregado = spacy.load(\"/content/drive/MyDrive/classificadores treinados/modelo\")\n",
        "modelo_carregado"
      ],
      "metadata": {
        "colab": {
          "base_uri": "https://localhost:8080/"
        },
        "id": "tcnoAd1oLhUZ",
        "outputId": "7efeadb5-ef56-4616-f65c-9259d5546008"
      },
      "execution_count": 124,
      "outputs": [
        {
          "output_type": "execute_result",
          "data": {
            "text/plain": [
              "<spacy.lang.pt.Portuguese at 0x7e83b9845d50>"
            ]
          },
          "metadata": {},
          "execution_count": 124
        }
      ]
    },
    {
      "cell_type": "code",
      "source": [
        "# Criando o texto teste, fazendo o processamento e previsão com texto positivo\n",
        "\n",
        "texto_positivo = 'eu adoro a cor dos seus olhos' # variável com texto positivo\n",
        "texto_positivo = preprocessamento(texto_positivo) # pre-processamento\n",
        "previsao = modelo_carregado(texto_positivo) # prevendo\n",
        "previsao.cats # obtendo resultado"
      ],
      "metadata": {
        "colab": {
          "base_uri": "https://localhost:8080/"
        },
        "id": "3l8mFw3fMLKz",
        "outputId": "f4cf928a-3a89-4461-b9e1-52fdf00b428e"
      },
      "execution_count": 125,
      "outputs": [
        {
          "output_type": "execute_result",
          "data": {
            "text/plain": [
              "{'ALEGRIA': 1.0, 'MEDO': 1.626525403253254e-08}"
            ]
          },
          "metadata": {},
          "execution_count": 125
        }
      ]
    },
    {
      "cell_type": "code",
      "source": [
        "# Fazendo a previsão com texto negativo\n",
        "\n",
        "texto_negativo = 'estou com medo dele' # variável com texto negativo\n",
        "previsao = modelo_carregado(preprocessamento(texto_negativo)) # fazendo o pre-processamento e fazendo previsão\n",
        "previsao.cats  # obtendo resultado"
      ],
      "metadata": {
        "colab": {
          "base_uri": "https://localhost:8080/"
        },
        "id": "HRVHPO3lMXgY",
        "outputId": "bf03d76d-6598-4c62-8a24-8aa108766430"
      },
      "execution_count": 126,
      "outputs": [
        {
          "output_type": "execute_result",
          "data": {
            "text/plain": [
              "{'ALEGRIA': 1.1116317644166429e-08, 'MEDO': 1.0}"
            ]
          },
          "metadata": {},
          "execution_count": 126
        }
      ]
    },
    {
      "cell_type": "markdown",
      "source": [
        "# Etapa 7: Avaliação do modelo"
      ],
      "metadata": {
        "id": "Uo8hDGT-NHc5"
      }
    },
    {
      "cell_type": "markdown",
      "source": [
        "## Avaliando na base de treinamento"
      ],
      "metadata": {
        "id": "MKDOcPrINIFy"
      }
    },
    {
      "cell_type": "code",
      "source": [
        "# Fazendo previsões dos textos\n",
        "\n",
        "previsoes = []\n",
        "for texto in base_dados['texto']:\n",
        "  previsao = modelo_carregado(texto)\n",
        "  previsoes.append(previsao.cats)\n",
        "\n",
        "previsoes"
      ],
      "metadata": {
        "colab": {
          "base_uri": "https://localhost:8080/"
        },
        "id": "rd3OJc4fNKXT",
        "outputId": "7860bb1e-99e0-4298-c0d2-de59999728f4"
      },
      "execution_count": 144,
      "outputs": [
        {
          "output_type": "execute_result",
          "data": {
            "text/plain": [
              "[{'ALEGRIA': 1.0, 'MEDO': 6.528779294967535e-09},\n",
              " {'ALEGRIA': 1.0, 'MEDO': 4.5515868407619564e-08},\n",
              " {'ALEGRIA': 1.0, 'MEDO': 6.0345874963729784e-09},\n",
              " {'ALEGRIA': 1.0, 'MEDO': 1.4423085836767768e-08},\n",
              " {'ALEGRIA': 1.0, 'MEDO': 5.311809214703089e-09},\n",
              " {'ALEGRIA': 1.0, 'MEDO': 5.93278581817458e-09},\n",
              " {'ALEGRIA': 1.0, 'MEDO': 1.626525403253254e-08},\n",
              " {'ALEGRIA': 1.0, 'MEDO': 4.850501866826562e-08},\n",
              " {'ALEGRIA': 1.0, 'MEDO': 2.893374428936113e-08},\n",
              " {'ALEGRIA': 1.0, 'MEDO': 1.8685520686290147e-08},\n",
              " {'ALEGRIA': 1.0, 'MEDO': 8.627988989928781e-09},\n",
              " {'ALEGRIA': 1.0, 'MEDO': 1.1901094332245066e-08},\n",
              " {'ALEGRIA': 1.0, 'MEDO': 5.189197072041907e-09},\n",
              " {'ALEGRIA': 1.0, 'MEDO': 8.659362116247848e-09},\n",
              " {'ALEGRIA': 0.9999996423721313, 'MEDO': 3.4726261333162256e-07},\n",
              " {'ALEGRIA': 1.0, 'MEDO': 1.6061722618587737e-08},\n",
              " {'ALEGRIA': 1.0, 'MEDO': 3.2898672230885495e-08},\n",
              " {'ALEGRIA': 1.0, 'MEDO': 3.2795341997626792e-09},\n",
              " {'ALEGRIA': 1.0, 'MEDO': 1.3570494061809768e-08},\n",
              " {'ALEGRIA': 1.0, 'MEDO': 1.9949752072534466e-08},\n",
              " {'ALEGRIA': 1.0, 'MEDO': 1.75877055141882e-08},\n",
              " {'ALEGRIA': 1.0, 'MEDO': 4.697754008020638e-08},\n",
              " {'ALEGRIA': 1.0, 'MEDO': 3.2321910481414307e-08},\n",
              " {'ALEGRIA': 1.0, 'MEDO': 1.2308607466593458e-08},\n",
              " {'ALEGRIA': 1.0, 'MEDO': 2.357336192915227e-08},\n",
              " {'ALEGRIA': 1.0, 'MEDO': 7.324183037837884e-09},\n",
              " {'ALEGRIA': 1.0, 'MEDO': 2.2005332667163202e-08},\n",
              " {'ALEGRIA': 1.0, 'MEDO': 1.7631739623880094e-08},\n",
              " {'ALEGRIA': 1.0, 'MEDO': 2.5519623747527476e-08},\n",
              " {'ALEGRIA': 1.0, 'MEDO': 4.359602456815992e-09},\n",
              " {'ALEGRIA': 1.0, 'MEDO': 3.423877359409744e-08},\n",
              " {'ALEGRIA': 1.0, 'MEDO': 4.953096599535911e-09},\n",
              " {'ALEGRIA': 1.0, 'MEDO': 1.4916274437837274e-08},\n",
              " {'ALEGRIA': 1.0, 'MEDO': 1.7753798431385803e-08},\n",
              " {'ALEGRIA': 1.0, 'MEDO': 3.2870364208292813e-09},\n",
              " {'ALEGRIA': 1.0, 'MEDO': 1.5322109803150852e-08},\n",
              " {'ALEGRIA': 1.0, 'MEDO': 2.1370160752098855e-08},\n",
              " {'ALEGRIA': 1.0, 'MEDO': 1.2325522824596646e-08},\n",
              " {'ALEGRIA': 1.0, 'MEDO': 2.6953070886293062e-08},\n",
              " {'ALEGRIA': 1.0, 'MEDO': 3.995892328134687e-08},\n",
              " {'ALEGRIA': 1.0, 'MEDO': 1.8104685750586214e-08},\n",
              " {'ALEGRIA': 1.0, 'MEDO': 1.829547180420832e-08},\n",
              " {'ALEGRIA': 1.0, 'MEDO': 1.7566751608910636e-08},\n",
              " {'ALEGRIA': 1.0, 'MEDO': 2.030616563786225e-08},\n",
              " {'ALEGRIA': 1.0, 'MEDO': 1.6000385016923246e-08},\n",
              " {'ALEGRIA': 1.0, 'MEDO': 1.686155570723713e-08},\n",
              " {'ALEGRIA': 1.0, 'MEDO': 2.4484707594751853e-08},\n",
              " {'ALEGRIA': 1.0, 'MEDO': 2.2131525057034196e-08},\n",
              " {'ALEGRIA': 1.0, 'MEDO': 3.8374068367375e-08},\n",
              " {'ALEGRIA': 1.0, 'MEDO': 5.8571498762205465e-09},\n",
              " {'ALEGRIA': 1.0, 'MEDO': 3.906269796516426e-08},\n",
              " {'ALEGRIA': 1.0, 'MEDO': 3.041264351466566e-09},\n",
              " {'ALEGRIA': 1.0, 'MEDO': 1.585595654773897e-08},\n",
              " {'ALEGRIA': 1.0, 'MEDO': 2.3272253457662373e-08},\n",
              " {'ALEGRIA': 1.0, 'MEDO': 2.0694269409204935e-08},\n",
              " {'ALEGRIA': 1.0, 'MEDO': 4.577400503080753e-08},\n",
              " {'ALEGRIA': 1.0, 'MEDO': 4.988841340036743e-09},\n",
              " {'ALEGRIA': 1.0, 'MEDO': 3.8827373316507874e-08},\n",
              " {'ALEGRIA': 1.0, 'MEDO': 1.1124567933507024e-08},\n",
              " {'ALEGRIA': 1.0, 'MEDO': 1.1989381931698517e-08},\n",
              " {'ALEGRIA': 1.0, 'MEDO': 1.3979120971896464e-08},\n",
              " {'ALEGRIA': 1.0, 'MEDO': 4.5251852043293184e-08},\n",
              " {'ALEGRIA': 1.0, 'MEDO': 5.231263422444954e-09},\n",
              " {'ALEGRIA': 1.0, 'MEDO': 6.560185727977341e-09},\n",
              " {'ALEGRIA': 1.0, 'MEDO': 7.208225127897094e-09},\n",
              " {'ALEGRIA': 1.0, 'MEDO': 1.0953664641988325e-08},\n",
              " {'ALEGRIA': 1.0, 'MEDO': 6.771268434846434e-09},\n",
              " {'ALEGRIA': 1.0, 'MEDO': 4.046158252890564e-08},\n",
              " {'ALEGRIA': 1.0, 'MEDO': 1.894360757148661e-08},\n",
              " {'ALEGRIA': 1.0, 'MEDO': 7.2194530353897335e-09},\n",
              " {'ALEGRIA': 1.0, 'MEDO': 1.4800694003724857e-09},\n",
              " {'ALEGRIA': 1.0, 'MEDO': 1.7778230443354914e-08},\n",
              " {'ALEGRIA': 1.0, 'MEDO': 3.5841637213707145e-08},\n",
              " {'ALEGRIA': 1.0, 'MEDO': 1.3417971622686764e-08},\n",
              " {'ALEGRIA': 1.0, 'MEDO': 3.350028521253989e-08},\n",
              " {'ALEGRIA': 1.0, 'MEDO': 2.0166673664334667e-08},\n",
              " {'ALEGRIA': 1.0, 'MEDO': 1.4522684388396101e-08},\n",
              " {'ALEGRIA': 1.0, 'MEDO': 3.943896587088602e-08},\n",
              " {'ALEGRIA': 1.0, 'MEDO': 4.803105912998262e-09},\n",
              " {'ALEGRIA': 1.0, 'MEDO': 2.6901915362032014e-08},\n",
              " {'ALEGRIA': 1.0, 'MEDO': 3.0332540035260536e-08},\n",
              " {'ALEGRIA': 1.0, 'MEDO': 1.726454534889399e-08},\n",
              " {'ALEGRIA': 1.0, 'MEDO': 4.5305634799319705e-09},\n",
              " {'ALEGRIA': 1.0, 'MEDO': 1.492028545158064e-08},\n",
              " {'ALEGRIA': 1.0, 'MEDO': 1.8119541422834118e-08},\n",
              " {'ALEGRIA': 1.0, 'MEDO': 1.0389649141018253e-08},\n",
              " {'ALEGRIA': 1.0, 'MEDO': 7.610558405701795e-09},\n",
              " {'ALEGRIA': 1.0, 'MEDO': 3.7482344339423435e-08},\n",
              " {'ALEGRIA': 1.0, 'MEDO': 1.3820265820640998e-08},\n",
              " {'ALEGRIA': 1.0, 'MEDO': 3.5131712650127156e-08},\n",
              " {'ALEGRIA': 1.0, 'MEDO': 1.3556963551764056e-08},\n",
              " {'ALEGRIA': 1.0, 'MEDO': 5.509655398583391e-09},\n",
              " {'ALEGRIA': 1.0, 'MEDO': 1.1585385095713718e-08},\n",
              " {'ALEGRIA': 1.0, 'MEDO': 2.597881731958296e-08},\n",
              " {'ALEGRIA': 1.0, 'MEDO': 1.7458385848101443e-09},\n",
              " {'ALEGRIA': 1.0, 'MEDO': 5.479423847987164e-08},\n",
              " {'ALEGRIA': 1.0, 'MEDO': 1.9163325148952026e-08},\n",
              " {'ALEGRIA': 1.0, 'MEDO': 2.558029699173403e-08},\n",
              " {'ALEGRIA': 1.0, 'MEDO': 1.771672408779068e-08},\n",
              " {'ALEGRIA': 1.0, 'MEDO': 2.5101275724637162e-08},\n",
              " {'ALEGRIA': 1.0, 'MEDO': 2.0766984576425784e-08},\n",
              " {'ALEGRIA': 1.0, 'MEDO': 8.864510014916505e-09},\n",
              " {'ALEGRIA': 1.0, 'MEDO': 7.670745816312774e-09},\n",
              " {'ALEGRIA': 1.0, 'MEDO': 2.749452576722433e-08},\n",
              " {'ALEGRIA': 1.0, 'MEDO': 1.8632777099014675e-08},\n",
              " {'ALEGRIA': 1.0, 'MEDO': 1.547583750038939e-08},\n",
              " {'ALEGRIA': 1.0, 'MEDO': 1.7865250612203454e-08},\n",
              " {'ALEGRIA': 1.0, 'MEDO': 2.1391448612462227e-08},\n",
              " {'ALEGRIA': 1.0, 'MEDO': 6.834719012971391e-09},\n",
              " {'ALEGRIA': 1.0, 'MEDO': 6.3542873185440385e-09},\n",
              " {'ALEGRIA': 1.0, 'MEDO': 2.127012521668803e-08},\n",
              " {'ALEGRIA': 1.0, 'MEDO': 5.827264448754477e-09},\n",
              " {'ALEGRIA': 3.865011777293148e-08, 'MEDO': 1.0},\n",
              " {'ALEGRIA': 3.097263778784054e-09, 'MEDO': 1.0},\n",
              " {'ALEGRIA': 8.351406677320483e-09, 'MEDO': 1.0},\n",
              " {'ALEGRIA': 2.8900208448590092e-08, 'MEDO': 1.0},\n",
              " {'ALEGRIA': 3.6953920812266006e-08, 'MEDO': 1.0},\n",
              " {'ALEGRIA': 3.0561874808654466e-08, 'MEDO': 1.0},\n",
              " {'ALEGRIA': 3.806111870119366e-09, 'MEDO': 1.0},\n",
              " {'ALEGRIA': 5.411312287151304e-08, 'MEDO': 1.0},\n",
              " {'ALEGRIA': 1.5793597540891824e-08, 'MEDO': 1.0},\n",
              " {'ALEGRIA': 1.7138393815230302e-08, 'MEDO': 1.0},\n",
              " {'ALEGRIA': 2.2589047077303803e-08, 'MEDO': 1.0},\n",
              " {'ALEGRIA': 3.039700402496237e-08, 'MEDO': 1.0},\n",
              " {'ALEGRIA': 2.3207270771763433e-08, 'MEDO': 1.0},\n",
              " {'ALEGRIA': 3.144492666251608e-08, 'MEDO': 1.0},\n",
              " {'ALEGRIA': 2.2859332204916427e-08, 'MEDO': 1.0},\n",
              " {'ALEGRIA': 3.550267280161279e-08, 'MEDO': 1.0},\n",
              " {'ALEGRIA': 1.7526055273719976e-08, 'MEDO': 1.0},\n",
              " {'ALEGRIA': 8.385036665004009e-09, 'MEDO': 1.0},\n",
              " {'ALEGRIA': 1.4044759133469142e-08, 'MEDO': 1.0},\n",
              " {'ALEGRIA': 2.0025540337087477e-08, 'MEDO': 1.0},\n",
              " {'ALEGRIA': 8.829111663999356e-08, 'MEDO': 0.9999998807907104},\n",
              " {'ALEGRIA': 1.2491595313690596e-08, 'MEDO': 1.0},\n",
              " {'ALEGRIA': 1.462576015853756e-08, 'MEDO': 1.0},\n",
              " {'ALEGRIA': 3.5159462896672267e-08, 'MEDO': 1.0},\n",
              " {'ALEGRIA': 3.57770240100308e-08, 'MEDO': 1.0},\n",
              " {'ALEGRIA': 1.5367973560387327e-08, 'MEDO': 1.0},\n",
              " {'ALEGRIA': 5.688401305548041e-09, 'MEDO': 1.0},\n",
              " {'ALEGRIA': 9.073534812387152e-08, 'MEDO': 0.9999998807907104},\n",
              " {'ALEGRIA': 4.301125677841355e-09, 'MEDO': 1.0},\n",
              " {'ALEGRIA': 7.80525599708426e-09, 'MEDO': 1.0},\n",
              " {'ALEGRIA': 1.1933166454980437e-08, 'MEDO': 1.0},\n",
              " {'ALEGRIA': 1.2626458101294702e-08, 'MEDO': 1.0},\n",
              " {'ALEGRIA': 2.7928354739970018e-08, 'MEDO': 1.0},\n",
              " {'ALEGRIA': 1.0137232919760208e-07, 'MEDO': 0.9999998807907104},\n",
              " {'ALEGRIA': 3.077401666828905e-09, 'MEDO': 1.0},\n",
              " {'ALEGRIA': 3.7702470478961914e-08, 'MEDO': 1.0},\n",
              " {'ALEGRIA': 4.7468333264077955e-08, 'MEDO': 1.0},\n",
              " {'ALEGRIA': 6.3160321417399246e-09, 'MEDO': 1.0},\n",
              " {'ALEGRIA': 4.890251759093189e-08, 'MEDO': 1.0},\n",
              " {'ALEGRIA': 3.643973789380084e-09, 'MEDO': 1.0},\n",
              " {'ALEGRIA': 2.9206038476559115e-08, 'MEDO': 1.0},\n",
              " {'ALEGRIA': 1.5480148718438613e-08, 'MEDO': 1.0},\n",
              " {'ALEGRIA': 3.9523460060308935e-08, 'MEDO': 1.0},\n",
              " {'ALEGRIA': 1.2043563479835484e-08, 'MEDO': 1.0},\n",
              " {'ALEGRIA': 7.766973908474029e-08, 'MEDO': 0.9999998807907104},\n",
              " {'ALEGRIA': 3.575833673608031e-08, 'MEDO': 1.0},\n",
              " {'ALEGRIA': 2.664886444847525e-08, 'MEDO': 1.0},\n",
              " {'ALEGRIA': 1.1765408913788633e-07, 'MEDO': 0.9999998807907104},\n",
              " {'ALEGRIA': 1.7112000705310493e-08, 'MEDO': 1.0},\n",
              " {'ALEGRIA': 3.225552447361224e-08, 'MEDO': 1.0},\n",
              " {'ALEGRIA': 1.1644713637792847e-08, 'MEDO': 1.0},\n",
              " {'ALEGRIA': 1.4385283186868492e-08, 'MEDO': 1.0},\n",
              " {'ALEGRIA': 3.247119906291118e-08, 'MEDO': 1.0},\n",
              " {'ALEGRIA': 4.2180246850875847e-08, 'MEDO': 1.0},\n",
              " {'ALEGRIA': 1.2752920497405285e-08, 'MEDO': 1.0},\n",
              " {'ALEGRIA': 8.316071387071133e-09, 'MEDO': 1.0},\n",
              " {'ALEGRIA': 2.215053029885894e-08, 'MEDO': 1.0},\n",
              " {'ALEGRIA': 1.6764422738901885e-08, 'MEDO': 1.0},\n",
              " {'ALEGRIA': 4.930834762717495e-08, 'MEDO': 1.0},\n",
              " {'ALEGRIA': 9.253038335543806e-09, 'MEDO': 1.0},\n",
              " {'ALEGRIA': 3.024115358130075e-08, 'MEDO': 1.0},\n",
              " {'ALEGRIA': 2.9647923227571482e-08, 'MEDO': 1.0},\n",
              " {'ALEGRIA': 1.3995742342842732e-08, 'MEDO': 1.0},\n",
              " {'ALEGRIA': 2.3412498606489862e-08, 'MEDO': 1.0},\n",
              " {'ALEGRIA': 3.518898239462942e-08, 'MEDO': 1.0},\n",
              " {'ALEGRIA': 2.2009531974731544e-08, 'MEDO': 1.0},\n",
              " {'ALEGRIA': 3.61009817595459e-08, 'MEDO': 1.0},\n",
              " {'ALEGRIA': 7.605482466033209e-08, 'MEDO': 0.9999998807907104},\n",
              " {'ALEGRIA': 2.133033660811634e-08, 'MEDO': 1.0},\n",
              " {'ALEGRIA': 2.6375948536383476e-08, 'MEDO': 1.0},\n",
              " {'ALEGRIA': 4.697861655245106e-08, 'MEDO': 1.0},\n",
              " {'ALEGRIA': 1.359326518013404e-08, 'MEDO': 1.0},\n",
              " {'ALEGRIA': 1.429139562247883e-08, 'MEDO': 1.0},\n",
              " {'ALEGRIA': 2.8972179322295233e-08, 'MEDO': 1.0},\n",
              " {'ALEGRIA': 2.3790263981027238e-08, 'MEDO': 1.0},\n",
              " {'ALEGRIA': 3.2008905748170946e-08, 'MEDO': 1.0},\n",
              " {'ALEGRIA': 2.8603967194840152e-08, 'MEDO': 1.0},\n",
              " {'ALEGRIA': 3.42622925586511e-08, 'MEDO': 1.0},\n",
              " {'ALEGRIA': 4.9222744991084255e-08, 'MEDO': 1.0},\n",
              " {'ALEGRIA': 4.3810771899188694e-08, 'MEDO': 1.0},\n",
              " {'ALEGRIA': 1.6372545985632314e-08, 'MEDO': 1.0},\n",
              " {'ALEGRIA': 1.7216962078236975e-08, 'MEDO': 1.0},\n",
              " {'ALEGRIA': 3.2716016562517325e-08, 'MEDO': 1.0},\n",
              " {'ALEGRIA': 5.031204253214128e-08, 'MEDO': 1.0}]"
            ]
          },
          "metadata": {},
          "execution_count": 144
        }
      ]
    },
    {
      "cell_type": "code",
      "source": [
        "# Pegando as previsoes e obtendo o resultado real, tirando da forma de dicionário e retornando apenas a previsão\n",
        "\n",
        "previsoes_final = []\n",
        "for previsao in previsoes:\n",
        "  if previsao['ALEGRIA'] > previsao['MEDO']: # se o valor na pos['ALEGRIA'] for maior que ['MEDO'] vai ser add alegria\n",
        "    previsoes_final.append('alegria')\n",
        "  else: # senão vai ser adicionado medo\n",
        "    previsoes_final.append('medo')\n",
        "\n",
        "previsoes_final = np.array(previsoes_final)\n",
        "previsoes_final"
      ],
      "metadata": {
        "colab": {
          "base_uri": "https://localhost:8080/"
        },
        "id": "3bJ-8esjNiSK",
        "outputId": "ecb7eb39-c767-4be8-ecdd-9590ce41fe47"
      },
      "execution_count": 145,
      "outputs": [
        {
          "output_type": "execute_result",
          "data": {
            "text/plain": [
              "array(['alegria', 'alegria', 'alegria', 'alegria', 'alegria', 'alegria',\n",
              "       'alegria', 'alegria', 'alegria', 'alegria', 'alegria', 'alegria',\n",
              "       'alegria', 'alegria', 'alegria', 'alegria', 'alegria', 'alegria',\n",
              "       'alegria', 'alegria', 'alegria', 'alegria', 'alegria', 'alegria',\n",
              "       'alegria', 'alegria', 'alegria', 'alegria', 'alegria', 'alegria',\n",
              "       'alegria', 'alegria', 'alegria', 'alegria', 'alegria', 'alegria',\n",
              "       'alegria', 'alegria', 'alegria', 'alegria', 'alegria', 'alegria',\n",
              "       'alegria', 'alegria', 'alegria', 'alegria', 'alegria', 'alegria',\n",
              "       'alegria', 'alegria', 'alegria', 'alegria', 'alegria', 'alegria',\n",
              "       'alegria', 'alegria', 'alegria', 'alegria', 'alegria', 'alegria',\n",
              "       'alegria', 'alegria', 'alegria', 'alegria', 'alegria', 'alegria',\n",
              "       'alegria', 'alegria', 'alegria', 'alegria', 'alegria', 'alegria',\n",
              "       'alegria', 'alegria', 'alegria', 'alegria', 'alegria', 'alegria',\n",
              "       'alegria', 'alegria', 'alegria', 'alegria', 'alegria', 'alegria',\n",
              "       'alegria', 'alegria', 'alegria', 'alegria', 'alegria', 'alegria',\n",
              "       'alegria', 'alegria', 'alegria', 'alegria', 'alegria', 'alegria',\n",
              "       'alegria', 'alegria', 'alegria', 'alegria', 'alegria', 'alegria',\n",
              "       'alegria', 'alegria', 'alegria', 'alegria', 'alegria', 'alegria',\n",
              "       'alegria', 'alegria', 'alegria', 'alegria', 'medo', 'medo', 'medo',\n",
              "       'medo', 'medo', 'medo', 'medo', 'medo', 'medo', 'medo', 'medo',\n",
              "       'medo', 'medo', 'medo', 'medo', 'medo', 'medo', 'medo', 'medo',\n",
              "       'medo', 'medo', 'medo', 'medo', 'medo', 'medo', 'medo', 'medo',\n",
              "       'medo', 'medo', 'medo', 'medo', 'medo', 'medo', 'medo', 'medo',\n",
              "       'medo', 'medo', 'medo', 'medo', 'medo', 'medo', 'medo', 'medo',\n",
              "       'medo', 'medo', 'medo', 'medo', 'medo', 'medo', 'medo', 'medo',\n",
              "       'medo', 'medo', 'medo', 'medo', 'medo', 'medo', 'medo', 'medo',\n",
              "       'medo', 'medo', 'medo', 'medo', 'medo', 'medo', 'medo', 'medo',\n",
              "       'medo', 'medo', 'medo', 'medo', 'medo', 'medo', 'medo', 'medo',\n",
              "       'medo', 'medo', 'medo', 'medo', 'medo', 'medo', 'medo', 'medo',\n",
              "       'medo'], dtype='<U7')"
            ]
          },
          "metadata": {},
          "execution_count": 145
        }
      ]
    },
    {
      "cell_type": "code",
      "source": [
        "# Obtendo todas as respostas reais da coluna 'emocao'\n",
        "\n",
        "respostas_reais = base_dados['emocao'].values\n",
        "respostas_reais"
      ],
      "metadata": {
        "colab": {
          "base_uri": "https://localhost:8080/"
        },
        "id": "pzsWU15pN_UK",
        "outputId": "1f0cafa1-ee6c-4ced-cedd-a59b22551d45"
      },
      "execution_count": 146,
      "outputs": [
        {
          "output_type": "execute_result",
          "data": {
            "text/plain": [
              "array(['alegria', 'alegria', 'alegria', 'alegria', 'alegria', 'alegria',\n",
              "       'alegria', 'alegria', 'alegria', 'alegria', 'alegria', 'alegria',\n",
              "       'alegria', 'alegria', 'alegria', 'alegria', 'alegria', 'alegria',\n",
              "       'alegria', 'alegria', 'alegria', 'alegria', 'alegria', 'alegria',\n",
              "       'alegria', 'alegria', 'alegria', 'alegria', 'alegria', 'alegria',\n",
              "       'alegria', 'alegria', 'alegria', 'alegria', 'alegria', 'alegria',\n",
              "       'alegria', 'alegria', 'alegria', 'alegria', 'alegria', 'alegria',\n",
              "       'alegria', 'alegria', 'alegria', 'alegria', 'alegria', 'alegria',\n",
              "       'alegria', 'alegria', 'alegria', 'alegria', 'alegria', 'alegria',\n",
              "       'alegria', 'alegria', 'alegria', 'alegria', 'alegria', 'alegria',\n",
              "       'alegria', 'alegria', 'alegria', 'alegria', 'alegria', 'alegria',\n",
              "       'alegria', 'alegria', 'alegria', 'alegria', 'alegria', 'alegria',\n",
              "       'alegria', 'alegria', 'alegria', 'alegria', 'alegria', 'alegria',\n",
              "       'alegria', 'alegria', 'alegria', 'alegria', 'alegria', 'alegria',\n",
              "       'alegria', 'alegria', 'alegria', 'alegria', 'alegria', 'alegria',\n",
              "       'alegria', 'alegria', 'alegria', 'alegria', 'alegria', 'alegria',\n",
              "       'alegria', 'alegria', 'alegria', 'alegria', 'alegria', 'alegria',\n",
              "       'alegria', 'alegria', 'alegria', 'alegria', 'alegria', 'alegria',\n",
              "       'alegria', 'alegria', 'alegria', 'alegria', 'medo', 'medo', 'medo',\n",
              "       'medo', 'medo', 'medo', 'medo', 'medo', 'medo', 'medo', 'medo',\n",
              "       'medo', 'medo', 'medo', 'medo', 'medo', 'medo', 'medo', 'medo',\n",
              "       'medo', 'medo', 'medo', 'medo', 'medo', 'medo', 'medo', 'medo',\n",
              "       'medo', 'medo', 'medo', 'medo', 'medo', 'medo', 'medo', 'medo',\n",
              "       'medo', 'medo', 'medo', 'medo', 'medo', 'medo', 'medo', 'medo',\n",
              "       'medo', 'medo', 'medo', 'medo', 'medo', 'medo', 'medo', 'medo',\n",
              "       'medo', 'medo', 'medo', 'medo', 'medo', 'medo', 'medo', 'medo',\n",
              "       'medo', 'medo', 'medo', 'medo', 'medo', 'medo', 'medo', 'medo',\n",
              "       'medo', 'medo', 'medo', 'medo', 'medo', 'medo', 'medo', 'medo',\n",
              "       'medo', 'medo', 'medo', 'medo', 'medo', 'medo', 'medo', 'medo',\n",
              "       'medo'], dtype=object)"
            ]
          },
          "metadata": {},
          "execution_count": 146
        }
      ]
    },
    {
      "cell_type": "code",
      "source": [
        "# Accuracy score\n",
        "\n",
        "print(f'A taxa de acerto foi de: {accuracy_score(respostas_reais, previsoes_final)}')"
      ],
      "metadata": {
        "colab": {
          "base_uri": "https://localhost:8080/"
        },
        "id": "6g81D1VLOE9w",
        "outputId": "b99f60fa-134b-47b6-a816-5b985b16277f"
      },
      "execution_count": 147,
      "outputs": [
        {
          "output_type": "stream",
          "name": "stdout",
          "text": [
            "A taxa de acerto foi de: 1.0\n"
          ]
        }
      ]
    },
    {
      "cell_type": "code",
      "source": [
        "# Relatório de classificação\n",
        "\n",
        "print(f'Relatório de classificação: \\n{classification_report(respostas_reais, previsoes_final)}')"
      ],
      "metadata": {
        "colab": {
          "base_uri": "https://localhost:8080/"
        },
        "id": "lSdRAtS4bKro",
        "outputId": "fbdb0e41-889c-407f-9c09-db9ed8b19c6b"
      },
      "execution_count": 148,
      "outputs": [
        {
          "output_type": "stream",
          "name": "stdout",
          "text": [
            "Relatório de classificação: \n",
            "              precision    recall  f1-score   support\n",
            "\n",
            "     alegria       1.00      1.00      1.00       112\n",
            "        medo       1.00      1.00      1.00        84\n",
            "\n",
            "    accuracy                           1.00       196\n",
            "   macro avg       1.00      1.00      1.00       196\n",
            "weighted avg       1.00      1.00      1.00       196\n",
            "\n"
          ]
        }
      ]
    },
    {
      "cell_type": "code",
      "source": [
        "# Gerando matriz de confusão\n",
        "\n",
        "cm = confusion_matrix(respostas_reais, previsoes_final)\n",
        "cm"
      ],
      "metadata": {
        "colab": {
          "base_uri": "https://localhost:8080/"
        },
        "id": "EZ3DBnGVOdur",
        "outputId": "08dc51eb-cb70-447d-a3ff-886c263687d6"
      },
      "execution_count": 149,
      "outputs": [
        {
          "output_type": "execute_result",
          "data": {
            "text/plain": [
              "array([[112,   0],\n",
              "       [  0,  84]])"
            ]
          },
          "metadata": {},
          "execution_count": 149
        }
      ]
    },
    {
      "cell_type": "code",
      "source": [
        "# Plotando figura\n",
        "\n",
        "plt.figure(figsize=(3, 3))\n",
        "sns.heatmap(cm, annot=True, fmt='d', cmap='cividis')\n",
        "plt.xlabel('Predicted')\n",
        "plt.ylabel('Real')\n",
        "plt.title('Matriz Confusão - Textos')\n",
        "plt.show()"
      ],
      "metadata": {
        "colab": {
          "base_uri": "https://localhost:8080/",
          "height": 333
        },
        "id": "woVwDq27Q3pp",
        "outputId": "3e885262-2b08-4244-c65a-76436bdc74bf"
      },
      "execution_count": 150,
      "outputs": [
        {
          "output_type": "display_data",
          "data": {
            "text/plain": [
              "<Figure size 300x300 with 2 Axes>"
            ],
            "image/png": "[encoded data removed]"
          },
          "metadata": {}
        }
      ]
    },
    {
      "cell_type": "markdown",
      "source": [
        "## Avaliando na base de teste"
      ],
      "metadata": {
        "id": "MMERbcucNKi0"
      }
    },
    {
      "cell_type": "code",
      "source": [
        "# Importando a base de teste\n",
        "\n",
        "base_dados_teste = pd.read_csv('/content/base_teste.txt', encoding = 'utf-8')\n",
        "base_dados_teste.head()"
      ],
      "metadata": {
        "colab": {
          "base_uri": "https://localhost:8080/",
          "height": 206
        },
        "id": "Eeroef13NMoV",
        "outputId": "536a6e54-75f3-4a36-a579-a21611755fdd"
      },
      "execution_count": 151,
      "outputs": [
        {
          "output_type": "execute_result",
          "data": {
            "text/plain": [
              "                                    texto   emocao\n",
              "0           não precisei pagar o ingresso  alegria\n",
              "1             se eu ajeitar tudo fica bem  alegria\n",
              "2        minha fortuna ultrapassará a sua  alegria\n",
              "3                    sou muito afortunado  alegria\n",
              "4  é benéfico para todos esta nova medida  alegria"
            ],
            "text/html": [
              "\n",
              "  <div id=\"df-02af7890-859e-4da2-b0ba-0148e6969584\" class=\"colab-df-container\">\n",
              "    <div>\n",
              "<style scoped>\n",
              "    .dataframe tbody tr th:only-of-type {\n",
              "        vertical-align: middle;\n",
              "    }\n",
              "\n",
              "    .dataframe tbody tr th {\n",
              "        vertical-align: top;\n",
              "    }\n",
              "\n",
              "    .dataframe thead th {\n",
              "        text-align: right;\n",
              "    }\n",
              "</style>\n",
              "<table border=\"1\" class=\"dataframe\">\n",
              "  <thead>\n",
              "    <tr style=\"text-align: right;\">\n",
              "      <th></th>\n",
              "      <th>texto</th>\n",
              "      <th>emocao</th>\n",
              "    </tr>\n",
              "  </thead>\n",
              "  <tbody>\n",
              "    <tr>\n",
              "      <th>0</th>\n",
              "      <td>não precisei pagar o ingresso</td>\n",
              "      <td>alegria</td>\n",
              "    </tr>\n",
              "    <tr>\n",
              "      <th>1</th>\n",
              "      <td>se eu ajeitar tudo fica bem</td>\n",
              "      <td>alegria</td>\n",
              "    </tr>\n",
              "    <tr>\n",
              "      <th>2</th>\n",
              "      <td>minha fortuna ultrapassará a sua</td>\n",
              "      <td>alegria</td>\n",
              "    </tr>\n",
              "    <tr>\n",
              "      <th>3</th>\n",
              "      <td>sou muito afortunado</td>\n",
              "      <td>alegria</td>\n",
              "    </tr>\n",
              "    <tr>\n",
              "      <th>4</th>\n",
              "      <td>é benéfico para todos esta nova medida</td>\n",
              "      <td>alegria</td>\n",
              "    </tr>\n",
              "  </tbody>\n",
              "</table>\n",
              "</div>\n",
              "    <div class=\"colab-df-buttons\">\n",
              "\n",
              "  <div class=\"colab-df-container\">\n",
              "    <button class=\"colab-df-convert\" onclick=\"convertToInteractive('df-02af7890-859e-4da2-b0ba-0148e6969584')\"\n",
              "            title=\"Convert this dataframe to an interactive table.\"\n",
              "            style=\"display:none;\">\n",
              "\n",
              "  <svg xmlns=\"http://www.w3.org/2000/svg\" height=\"24px\" viewBox=\"0 -960 960 960\">\n",
              "    <path d=\"M120-120v-720h720v720H120Zm60-500h600v-160H180v160Zm220 220h160v-160H400v160Zm0 220h160v-160H400v160ZM180-400h160v-160H180v160Zm440 0h160v-160H620v160ZM180-180h160v-160H180v160Zm440 0h160v-160H620v160Z\"/>\n",
              "  </svg>\n",
              "    </button>\n",
              "\n",
              "  <style>\n",
              "    .colab-df-container {\n",
              "      display:flex;\n",
              "      gap: 12px;\n",
              "    }\n",
              "\n",
              "    .colab-df-convert {\n",
              "      background-color: #E8F0FE;\n",
              "      border: none;\n",
              "      border-radius: 50%;\n",
              "      cursor: pointer;\n",
              "      display: none;\n",
              "      fill: #1967D2;\n",
              "      height: 32px;\n",
              "      padding: 0 0 0 0;\n",
              "      width: 32px;\n",
              "    }\n",
              "\n",
              "    .colab-df-convert:hover {\n",
              "      background-color: #E2EBFA;\n",
              "      box-shadow: 0px 1px 2px rgba(60, 64, 67, 0.3), 0px 1px 3px 1px rgba(60, 64, 67, 0.15);\n",
              "      fill: #174EA6;\n",
              "    }\n",
              "\n",
              "    .colab-df-buttons div {\n",
              "      margin-bottom: 4px;\n",
              "    }\n",
              "\n",
              "    [theme=dark] .colab-df-convert {\n",
              "      background-color: #3B4455;\n",
              "      fill: #D2E3FC;\n",
              "    }\n",
              "\n",
              "    [theme=dark] .colab-df-convert:hover {\n",
              "      background-color: #434B5C;\n",
              "      box-shadow: 0px 1px 3px 1px rgba(0, 0, 0, 0.15);\n",
              "      filter: drop-shadow(0px 1px 2px rgba(0, 0, 0, 0.3));\n",
              "      fill: #FFFFFF;\n",
              "    }\n",
              "  </style>\n",
              "\n",
              "    <script>\n",
              "      const buttonEl =\n",
              "        document.querySelector('#df-02af7890-859e-4da2-b0ba-0148e6969584 button.colab-df-convert');\n",
              "      buttonEl.style.display =\n",
              "        google.colab.kernel.accessAllowed ? 'block' : 'none';\n",
              "\n",
              "      async function convertToInteractive(key) {\n",
              "        const element = document.querySelector('#df-02af7890-859e-4da2-b0ba-0148e6969584');\n",
              "        const dataTable =\n",
              "          await google.colab.kernel.invokeFunction('convertToInteractive',\n",
              "                                                    [key], {});\n",
              "        if (!dataTable) return;\n",
              "\n",
              "        const docLinkHtml = 'Like what you see? Visit the ' +\n",
              "          '<a target=\"_blank\" href=https://colab.research.google.com/notebooks/data_table.ipynb>data table notebook</a>'\n",
              "          + ' to learn more about interactive tables.';\n",
              "        element.innerHTML = '';\n",
              "        dataTable['output_type'] = 'display_data';\n",
              "        await google.colab.output.renderOutput(dataTable, element);\n",
              "        const docLink = document.createElement('div');\n",
              "        docLink.innerHTML = docLinkHtml;\n",
              "        element.appendChild(docLink);\n",
              "      }\n",
              "    </script>\n",
              "  </div>\n",
              "\n",
              "\n",
              "<div id=\"df-8b9cfd3e-bfef-4841-8e48-91db96a993da\">\n",
              "  <button class=\"colab-df-quickchart\" onclick=\"quickchart('df-8b9cfd3e-bfef-4841-8e48-91db96a993da')\"\n",
              "            title=\"Suggest charts\"\n",
              "            style=\"display:none;\">\n",
              "\n",
              "<svg xmlns=\"http://www.w3.org/2000/svg\" height=\"24px\"viewBox=\"0 0 24 24\"\n",
              "     width=\"24px\">\n",
              "    <g>\n",
              "        <path d=\"M19 3H5c-1.1 0-2 .9-2 2v14c0 1.1.9 2 2 2h14c1.1 0 2-.9 2-2V5c0-1.1-.9-2-2-2zM9 17H7v-7h2v7zm4 0h-2V7h2v10zm4 0h-2v-4h2v4z\"/>\n",
              "    </g>\n",
              "</svg>\n",
              "  </button>\n",
              "\n",
              "<style>\n",
              "  .colab-df-quickchart {\n",
              "      --bg-color: #E8F0FE;\n",
              "      --fill-color: #1967D2;\n",
              "      --hover-bg-color: #E2EBFA;\n",
              "      --hover-fill-color: #174EA6;\n",
              "      --disabled-fill-color: #AAA;\n",
              "      --disabled-bg-color: #DDD;\n",
              "  }\n",
              "\n",
              "  [theme=dark] .colab-df-quickchart {\n",
              "      --bg-color: #3B4455;\n",
              "      --fill-color: #D2E3FC;\n",
              "      --hover-bg-color: #434B5C;\n",
              "      --hover-fill-color: #FFFFFF;\n",
              "      --disabled-bg-color: #3B4455;\n",
              "      --disabled-fill-color: #666;\n",
              "  }\n",
              "\n",
              "  .colab-df-quickchart {\n",
              "    background-color: var(--bg-color);\n",
              "    border: none;\n",
              "    border-radius: 50%;\n",
              "    cursor: pointer;\n",
              "    display: none;\n",
              "    fill: var(--fill-color);\n",
              "    height: 32px;\n",
              "    padding: 0;\n",
              "    width: 32px;\n",
              "  }\n",
              "\n",
              "  .colab-df-quickchart:hover {\n",
              "    background-color: var(--hover-bg-color);\n",
              "    box-shadow: 0 1px 2px rgba(60, 64, 67, 0.3), 0 1px 3px 1px rgba(60, 64, 67, 0.15);\n",
              "    fill: var(--button-hover-fill-color);\n",
              "  }\n",
              "\n",
              "  .colab-df-quickchart-complete:disabled,\n",
              "  .colab-df-quickchart-complete:disabled:hover {\n",
              "    background-color: var(--disabled-bg-color);\n",
              "    fill: var(--disabled-fill-color);\n",
              "    box-shadow: none;\n",
              "  }\n",
              "\n",
              "  .colab-df-spinner {\n",
              "    border: 2px solid var(--fill-color);\n",
              "    border-color: transparent;\n",
              "    border-bottom-color: var(--fill-color);\n",
              "    animation:\n",
              "      spin 1s steps(1) infinite;\n",
              "  }\n",
              "\n",
              "  @keyframes spin {\n",
              "    0% {\n",
              "      border-color: transparent;\n",
              "      border-bottom-color: var(--fill-color);\n",
              "      border-left-color: var(--fill-color);\n",
              "    }\n",
              "    20% {\n",
              "      border-color: transparent;\n",
              "      border-left-color: var(--fill-color);\n",
              "      border-top-color: var(--fill-color);\n",
              "    }\n",
              "    30% {\n",
              "      border-color: transparent;\n",
              "      border-left-color: var(--fill-color);\n",
              "      border-top-color: var(--fill-color);\n",
              "      border-right-color: var(--fill-color);\n",
              "    }\n",
              "    40% {\n",
              "      border-color: transparent;\n",
              "      border-right-color: var(--fill-color);\n",
              "      border-top-color: var(--fill-color);\n",
              "    }\n",
              "    60% {\n",
              "      border-color: transparent;\n",
              "      border-right-color: var(--fill-color);\n",
              "    }\n",
              "    80% {\n",
              "      border-color: transparent;\n",
              "      border-right-color: var(--fill-color);\n",
              "      border-bottom-color: var(--fill-color);\n",
              "    }\n",
              "    90% {\n",
              "      border-color: transparent;\n",
              "      border-bottom-color: var(--fill-color);\n",
              "    }\n",
              "  }\n",
              "</style>\n",
              "\n",
              "  <script>\n",
              "    async function quickchart(key) {\n",
              "      const quickchartButtonEl =\n",
              "        document.querySelector('#' + key + ' button');\n",
              "      quickchartButtonEl.disabled = true;  // To prevent multiple clicks.\n",
              "      quickchartButtonEl.classList.add('colab-df-spinner');\n",
              "      try {\n",
              "        const charts = await google.colab.kernel.invokeFunction(\n",
              "            'suggestCharts', [key], {});\n",
              "      } catch (error) {\n",
              "        console.error('Error during call to suggestCharts:', error);\n",
              "      }\n",
              "      quickchartButtonEl.classList.remove('colab-df-spinner');\n",
              "      quickchartButtonEl.classList.add('colab-df-quickchart-complete');\n",
              "    }\n",
              "    (() => {\n",
              "      let quickchartButtonEl =\n",
              "        document.querySelector('#df-8b9cfd3e-bfef-4841-8e48-91db96a993da button');\n",
              "      quickchartButtonEl.style.display =\n",
              "        google.colab.kernel.accessAllowed ? 'block' : 'none';\n",
              "    })();\n",
              "  </script>\n",
              "</div>\n",
              "\n",
              "    </div>\n",
              "  </div>\n"
            ]
          },
          "metadata": {},
          "execution_count": 151
        }
      ]
    },
    {
      "cell_type": "code",
      "source": [
        "# Fazendo o processamento somente na coluna texto\n",
        "\n",
        "base_dados_teste['texto'] = base_dados_teste['texto'].apply(preprocessamento) # aplicando a função\n",
        "base_dados_teste"
      ],
      "metadata": {
        "colab": {
          "base_uri": "https://localhost:8080/",
          "height": 424
        },
        "id": "NctrcO2DO5C0",
        "outputId": "3b0adfcc-39d7-4d07-a516-3459f7e08492"
      },
      "execution_count": 152,
      "outputs": [
        {
          "output_type": "execute_result",
          "data": {
            "text/plain": [
              "                                      texto   emocao\n",
              "0                   precisar pagar ingresso  alegria\n",
              "1                             ajeitar ficar  alegria\n",
              "2                       fortuna ultrapassar  alegria\n",
              "3                                 afortunar  alegria\n",
              "4                           benéfico medida  alegria\n",
              "..                                      ...      ...\n",
              "79  notificar medo perder guarda de o filha     medo\n",
              "80                angustiada filho em o rua     medo\n",
              "81                        abominável animal     medo\n",
              "82               terrível tigre quase matar     medo\n",
              "83                                 advertir     medo\n",
              "\n",
              "[84 rows x 2 columns]"
            ],
            "text/html": [
              "\n",
              "  <div id=\"df-f40aebf5-4073-4de3-94c7-cb9390f38d45\" class=\"colab-df-container\">\n",
              "    <div>\n",
              "<style scoped>\n",
              "    .dataframe tbody tr th:only-of-type {\n",
              "        vertical-align: middle;\n",
              "    }\n",
              "\n",
              "    .dataframe tbody tr th {\n",
              "        vertical-align: top;\n",
              "    }\n",
              "\n",
              "    .dataframe thead th {\n",
              "        text-align: right;\n",
              "    }\n",
              "</style>\n",
              "<table border=\"1\" class=\"dataframe\">\n",
              "  <thead>\n",
              "    <tr style=\"text-align: right;\">\n",
              "      <th></th>\n",
              "      <th>texto</th>\n",
              "      <th>emocao</th>\n",
              "    </tr>\n",
              "  </thead>\n",
              "  <tbody>\n",
              "    <tr>\n",
              "      <th>0</th>\n",
              "      <td>precisar pagar ingresso</td>\n",
              "      <td>alegria</td>\n",
              "    </tr>\n",
              "    <tr>\n",
              "      <th>1</th>\n",
              "      <td>ajeitar ficar</td>\n",
              "      <td>alegria</td>\n",
              "    </tr>\n",
              "    <tr>\n",
              "      <th>2</th>\n",
              "      <td>fortuna ultrapassar</td>\n",
              "      <td>alegria</td>\n",
              "    </tr>\n",
              "    <tr>\n",
              "      <th>3</th>\n",
              "      <td>afortunar</td>\n",
              "      <td>alegria</td>\n",
              "    </tr>\n",
              "    <tr>\n",
              "      <th>4</th>\n",
              "      <td>benéfico medida</td>\n",
              "      <td>alegria</td>\n",
              "    </tr>\n",
              "    <tr>\n",
              "      <th>...</th>\n",
              "      <td>...</td>\n",
              "      <td>...</td>\n",
              "    </tr>\n",
              "    <tr>\n",
              "      <th>79</th>\n",
              "      <td>notificar medo perder guarda de o filha</td>\n",
              "      <td>medo</td>\n",
              "    </tr>\n",
              "    <tr>\n",
              "      <th>80</th>\n",
              "      <td>angustiada filho em o rua</td>\n",
              "      <td>medo</td>\n",
              "    </tr>\n",
              "    <tr>\n",
              "      <th>81</th>\n",
              "      <td>abominável animal</td>\n",
              "      <td>medo</td>\n",
              "    </tr>\n",
              "    <tr>\n",
              "      <th>82</th>\n",
              "      <td>terrível tigre quase matar</td>\n",
              "      <td>medo</td>\n",
              "    </tr>\n",
              "    <tr>\n",
              "      <th>83</th>\n",
              "      <td>advertir</td>\n",
              "      <td>medo</td>\n",
              "    </tr>\n",
              "  </tbody>\n",
              "</table>\n",
              "<p>84 rows × 2 columns</p>\n",
              "</div>\n",
              "    <div class=\"colab-df-buttons\">\n",
              "\n",
              "  <div class=\"colab-df-container\">\n",
              "    <button class=\"colab-df-convert\" onclick=\"convertToInteractive('df-f40aebf5-4073-4de3-94c7-cb9390f38d45')\"\n",
              "            title=\"Convert this dataframe to an interactive table.\"\n",
              "            style=\"display:none;\">\n",
              "\n",
              "  <svg xmlns=\"http://www.w3.org/2000/svg\" height=\"24px\" viewBox=\"0 -960 960 960\">\n",
              "    <path d=\"M120-120v-720h720v720H120Zm60-500h600v-160H180v160Zm220 220h160v-160H400v160Zm0 220h160v-160H400v160ZM180-400h160v-160H180v160Zm440 0h160v-160H620v160ZM180-180h160v-160H180v160Zm440 0h160v-160H620v160Z\"/>\n",
              "  </svg>\n",
              "    </button>\n",
              "\n",
              "  <style>\n",
              "    .colab-df-container {\n",
              "      display:flex;\n",
              "      gap: 12px;\n",
              "    }\n",
              "\n",
              "    .colab-df-convert {\n",
              "      background-color: #E8F0FE;\n",
              "      border: none;\n",
              "      border-radius: 50%;\n",
              "      cursor: pointer;\n",
              "      display: none;\n",
              "      fill: #1967D2;\n",
              "      height: 32px;\n",
              "      padding: 0 0 0 0;\n",
              "      width: 32px;\n",
              "    }\n",
              "\n",
              "    .colab-df-convert:hover {\n",
              "      background-color: #E2EBFA;\n",
              "      box-shadow: 0px 1px 2px rgba(60, 64, 67, 0.3), 0px 1px 3px 1px rgba(60, 64, 67, 0.15);\n",
              "      fill: #174EA6;\n",
              "    }\n",
              "\n",
              "    .colab-df-buttons div {\n",
              "      margin-bottom: 4px;\n",
              "    }\n",
              "\n",
              "    [theme=dark] .colab-df-convert {\n",
              "      background-color: #3B4455;\n",
              "      fill: #D2E3FC;\n",
              "    }\n",
              "\n",
              "    [theme=dark] .colab-df-convert:hover {\n",
              "      background-color: #434B5C;\n",
              "      box-shadow: 0px 1px 3px 1px rgba(0, 0, 0, 0.15);\n",
              "      filter: drop-shadow(0px 1px 2px rgba(0, 0, 0, 0.3));\n",
              "      fill: #FFFFFF;\n",
              "    }\n",
              "  </style>\n",
              "\n",
              "    <script>\n",
              "      const buttonEl =\n",
              "        document.querySelector('#df-f40aebf5-4073-4de3-94c7-cb9390f38d45 button.colab-df-convert');\n",
              "      buttonEl.style.display =\n",
              "        google.colab.kernel.accessAllowed ? 'block' : 'none';\n",
              "\n",
              "      async function convertToInteractive(key) {\n",
              "        const element = document.querySelector('#df-f40aebf5-4073-4de3-94c7-cb9390f38d45');\n",
              "        const dataTable =\n",
              "          await google.colab.kernel.invokeFunction('convertToInteractive',\n",
              "                                                    [key], {});\n",
              "        if (!dataTable) return;\n",
              "\n",
              "        const docLinkHtml = 'Like what you see? Visit the ' +\n",
              "          '<a target=\"_blank\" href=https://colab.research.google.com/notebooks/data_table.ipynb>data table notebook</a>'\n",
              "          + ' to learn more about interactive tables.';\n",
              "        element.innerHTML = '';\n",
              "        dataTable['output_type'] = 'display_data';\n",
              "        await google.colab.output.renderOutput(dataTable, element);\n",
              "        const docLink = document.createElement('div');\n",
              "        docLink.innerHTML = docLinkHtml;\n",
              "        element.appendChild(docLink);\n",
              "      }\n",
              "    </script>\n",
              "  </div>\n",
              "\n",
              "\n",
              "<div id=\"df-a91a038f-5b10-4feb-9203-36bc62dd3b56\">\n",
              "  <button class=\"colab-df-quickchart\" onclick=\"quickchart('df-a91a038f-5b10-4feb-9203-36bc62dd3b56')\"\n",
              "            title=\"Suggest charts\"\n",
              "            style=\"display:none;\">\n",
              "\n",
              "<svg xmlns=\"http://www.w3.org/2000/svg\" height=\"24px\"viewBox=\"0 0 24 24\"\n",
              "     width=\"24px\">\n",
              "    <g>\n",
              "        <path d=\"M19 3H5c-1.1 0-2 .9-2 2v14c0 1.1.9 2 2 2h14c1.1 0 2-.9 2-2V5c0-1.1-.9-2-2-2zM9 17H7v-7h2v7zm4 0h-2V7h2v10zm4 0h-2v-4h2v4z\"/>\n",
              "    </g>\n",
              "</svg>\n",
              "  </button>\n",
              "\n",
              "<style>\n",
              "  .colab-df-quickchart {\n",
              "      --bg-color: #E8F0FE;\n",
              "      --fill-color: #1967D2;\n",
              "      --hover-bg-color: #E2EBFA;\n",
              "      --hover-fill-color: #174EA6;\n",
              "      --disabled-fill-color: #AAA;\n",
              "      --disabled-bg-color: #DDD;\n",
              "  }\n",
              "\n",
              "  [theme=dark] .colab-df-quickchart {\n",
              "      --bg-color: #3B4455;\n",
              "      --fill-color: #D2E3FC;\n",
              "      --hover-bg-color: #434B5C;\n",
              "      --hover-fill-color: #FFFFFF;\n",
              "      --disabled-bg-color: #3B4455;\n",
              "      --disabled-fill-color: #666;\n",
              "  }\n",
              "\n",
              "  .colab-df-quickchart {\n",
              "    background-color: var(--bg-color);\n",
              "    border: none;\n",
              "    border-radius: 50%;\n",
              "    cursor: pointer;\n",
              "    display: none;\n",
              "    fill: var(--fill-color);\n",
              "    height: 32px;\n",
              "    padding: 0;\n",
              "    width: 32px;\n",
              "  }\n",
              "\n",
              "  .colab-df-quickchart:hover {\n",
              "    background-color: var(--hover-bg-color);\n",
              "    box-shadow: 0 1px 2px rgba(60, 64, 67, 0.3), 0 1px 3px 1px rgba(60, 64, 67, 0.15);\n",
              "    fill: var(--button-hover-fill-color);\n",
              "  }\n",
              "\n",
              "  .colab-df-quickchart-complete:disabled,\n",
              "  .colab-df-quickchart-complete:disabled:hover {\n",
              "    background-color: var(--disabled-bg-color);\n",
              "    fill: var(--disabled-fill-color);\n",
              "    box-shadow: none;\n",
              "  }\n",
              "\n",
              "  .colab-df-spinner {\n",
              "    border: 2px solid var(--fill-color);\n",
              "    border-color: transparent;\n",
              "    border-bottom-color: var(--fill-color);\n",
              "    animation:\n",
              "      spin 1s steps(1) infinite;\n",
              "  }\n",
              "\n",
              "  @keyframes spin {\n",
              "    0% {\n",
              "      border-color: transparent;\n",
              "      border-bottom-color: var(--fill-color);\n",
              "      border-left-color: var(--fill-color);\n",
              "    }\n",
              "    20% {\n",
              "      border-color: transparent;\n",
              "      border-left-color: var(--fill-color);\n",
              "      border-top-color: var(--fill-color);\n",
              "    }\n",
              "    30% {\n",
              "      border-color: transparent;\n",
              "      border-left-color: var(--fill-color);\n",
              "      border-top-color: var(--fill-color);\n",
              "      border-right-color: var(--fill-color);\n",
              "    }\n",
              "    40% {\n",
              "      border-color: transparent;\n",
              "      border-right-color: var(--fill-color);\n",
              "      border-top-color: var(--fill-color);\n",
              "    }\n",
              "    60% {\n",
              "      border-color: transparent;\n",
              "      border-right-color: var(--fill-color);\n",
              "    }\n",
              "    80% {\n",
              "      border-color: transparent;\n",
              "      border-right-color: var(--fill-color);\n",
              "      border-bottom-color: var(--fill-color);\n",
              "    }\n",
              "    90% {\n",
              "      border-color: transparent;\n",
              "      border-bottom-color: var(--fill-color);\n",
              "    }\n",
              "  }\n",
              "</style>\n",
              "\n",
              "  <script>\n",
              "    async function quickchart(key) {\n",
              "      const quickchartButtonEl =\n",
              "        document.querySelector('#' + key + ' button');\n",
              "      quickchartButtonEl.disabled = true;  // To prevent multiple clicks.\n",
              "      quickchartButtonEl.classList.add('colab-df-spinner');\n",
              "      try {\n",
              "        const charts = await google.colab.kernel.invokeFunction(\n",
              "            'suggestCharts', [key], {});\n",
              "      } catch (error) {\n",
              "        console.error('Error during call to suggestCharts:', error);\n",
              "      }\n",
              "      quickchartButtonEl.classList.remove('colab-df-spinner');\n",
              "      quickchartButtonEl.classList.add('colab-df-quickchart-complete');\n",
              "    }\n",
              "    (() => {\n",
              "      let quickchartButtonEl =\n",
              "        document.querySelector('#df-a91a038f-5b10-4feb-9203-36bc62dd3b56 button');\n",
              "      quickchartButtonEl.style.display =\n",
              "        google.colab.kernel.accessAllowed ? 'block' : 'none';\n",
              "    })();\n",
              "  </script>\n",
              "</div>\n",
              "\n",
              "  <div id=\"id_76c73af8-40c6-409e-8932-a5707be831cf\">\n",
              "    <style>\n",
              "      .colab-df-generate {\n",
              "        background-color: #E8F0FE;\n",
              "        border: none;\n",
              "        border-radius: 50%;\n",
              "        cursor: pointer;\n",
              "        display: none;\n",
              "        fill: #1967D2;\n",
              "        height: 32px;\n",
              "        padding: 0 0 0 0;\n",
              "        width: 32px;\n",
              "      }\n",
              "\n",
              "      .colab-df-generate:hover {\n",
              "        background-color: #E2EBFA;\n",
              "        box-shadow: 0px 1px 2px rgba(60, 64, 67, 0.3), 0px 1px 3px 1px rgba(60, 64, 67, 0.15);\n",
              "        fill: #174EA6;\n",
              "      }\n",
              "\n",
              "      [theme=dark] .colab-df-generate {\n",
              "        background-color: #3B4455;\n",
              "        fill: #D2E3FC;\n",
              "      }\n",
              "\n",
              "      [theme=dark] .colab-df-generate:hover {\n",
              "        background-color: #434B5C;\n",
              "        box-shadow: 0px 1px 3px 1px rgba(0, 0, 0, 0.15);\n",
              "        filter: drop-shadow(0px 1px 2px rgba(0, 0, 0, 0.3));\n",
              "        fill: #FFFFFF;\n",
              "      }\n",
              "    </style>\n",
              "    <button class=\"colab-df-generate\" onclick=\"generateWithVariable('base_dados_teste')\"\n",
              "            title=\"Generate code using this dataframe.\"\n",
              "            style=\"display:none;\">\n",
              "\n",
              "  <svg xmlns=\"http://www.w3.org/2000/svg\" height=\"24px\"viewBox=\"0 0 24 24\"\n",
              "       width=\"24px\">\n",
              "    <path d=\"M7,19H8.4L18.45,9,17,7.55,7,17.6ZM5,21V16.75L18.45,3.32a2,2,0,0,1,2.83,0l1.4,1.43a1.91,1.91,0,0,1,.58,1.4,1.91,1.91,0,0,1-.58,1.4L9.25,21ZM18.45,9,17,7.55Zm-12,3A5.31,5.31,0,0,0,4.9,8.1,5.31,5.31,0,0,0,1,6.5,5.31,5.31,0,0,0,4.9,4.9,5.31,5.31,0,0,0,6.5,1,5.31,5.31,0,0,0,8.1,4.9,5.31,5.31,0,0,0,12,6.5,5.46,5.46,0,0,0,6.5,12Z\"/>\n",
              "  </svg>\n",
              "    </button>\n",
              "    <script>\n",
              "      (() => {\n",
              "      const buttonEl =\n",
              "        document.querySelector('#id_76c73af8-40c6-409e-8932-a5707be831cf button.colab-df-generate');\n",
              "      buttonEl.style.display =\n",
              "        google.colab.kernel.accessAllowed ? 'block' : 'none';\n",
              "\n",
              "      buttonEl.onclick = () => {\n",
              "        google.colab.notebook.generateWithVariable('base_dados_teste');\n",
              "      }\n",
              "      })();\n",
              "    </script>\n",
              "  </div>\n",
              "\n",
              "    </div>\n",
              "  </div>\n"
            ]
          },
          "metadata": {},
          "execution_count": 152
        }
      ]
    },
    {
      "cell_type": "code",
      "source": [
        "# Pegando as previsoes e obtendo o resultado real, tirando da forma de dicionário e retornando apenas a previsão\n",
        "\n",
        "previsoes = []\n",
        "for texto in base_dados_teste['texto']:\n",
        "  #print(texto)\n",
        "  previsao = modelo_carregado(texto)\n",
        "  previsoes.append(previsao.cats)"
      ],
      "metadata": {
        "id": "vvQxF2AaPUNv"
      },
      "execution_count": 153,
      "outputs": []
    },
    {
      "cell_type": "code",
      "source": [
        "# Pegando apenas os valores sem o dict\n",
        "\n",
        "previsoes_final = []\n",
        "for previsao in previsoes:\n",
        "  if previsao['ALEGRIA'] > previsao['MEDO']:\n",
        "    previsoes_final.append('alegria')\n",
        "  else:\n",
        "    previsoes_final.append('medo')\n",
        "\n",
        "previsoes_final = np.array(previsoes_final)"
      ],
      "metadata": {
        "id": "OAX_ofmBPU5T"
      },
      "execution_count": 154,
      "outputs": []
    },
    {
      "cell_type": "code",
      "source": [
        "# Obtendo as respostas reais da base de dados\n",
        "\n",
        "respostas_reais = base_dados_teste['emocao'].values"
      ],
      "metadata": {
        "id": "dks_P2VSPXci"
      },
      "execution_count": 155,
      "outputs": []
    },
    {
      "cell_type": "code",
      "source": [
        "# Accuracy Score\n",
        "\n",
        "print(f'A taxa de acerto foi de: {accuracy_score(respostas_reais, previsoes_final)}')"
      ],
      "metadata": {
        "colab": {
          "base_uri": "https://localhost:8080/"
        },
        "id": "NpmxwJMdPlZm",
        "outputId": "c0dc14bb-7504-4618-c70f-838d3b0aac60"
      },
      "execution_count": 156,
      "outputs": [
        {
          "output_type": "stream",
          "name": "stdout",
          "text": [
            "A taxa de acerto foi de: 0.5238095238095238\n"
          ]
        }
      ]
    },
    {
      "cell_type": "code",
      "source": [
        "# Relatório de classificação\n",
        "\n",
        "print(f'Relatório de classificação: \\n{classification_report(respostas_reais, previsoes_final)}')"
      ],
      "metadata": {
        "colab": {
          "base_uri": "https://localhost:8080/"
        },
        "id": "PYWWtaj-axEa",
        "outputId": "9c2eb5f5-ec2a-4cd3-e67c-deafdfe31286"
      },
      "execution_count": 160,
      "outputs": [
        {
          "output_type": "stream",
          "name": "stdout",
          "text": [
            "Relatório de classificação: \n",
            "              precision    recall  f1-score   support\n",
            "\n",
            "     alegria       0.59      0.56      0.57        48\n",
            "        medo       0.45      0.47      0.46        36\n",
            "\n",
            "    accuracy                           0.52        84\n",
            "   macro avg       0.52      0.52      0.52        84\n",
            "weighted avg       0.53      0.52      0.53        84\n",
            "\n"
          ]
        }
      ]
    },
    {
      "cell_type": "code",
      "source": [
        "# Matriz de confusão\n",
        "\n",
        "cm_teste = confusion_matrix(respostas_reais, previsoes_final)\n",
        "cm_teste"
      ],
      "metadata": {
        "colab": {
          "base_uri": "https://localhost:8080/"
        },
        "id": "6A2_vWJNPw0H",
        "outputId": "c828e0bb-e9be-488b-99c8-66302984e602"
      },
      "execution_count": 158,
      "outputs": [
        {
          "output_type": "execute_result",
          "data": {
            "text/plain": [
              "array([[27, 21],\n",
              "       [19, 17]])"
            ]
          },
          "metadata": {},
          "execution_count": 158
        }
      ]
    },
    {
      "cell_type": "code",
      "source": [
        "# Gerando matriz de confusão\n",
        "\n",
        "plt.figure(figsize=(3, 3))\n",
        "sns.heatmap(cm_teste, annot=True, fmt='d', cmap='inferno')\n",
        "plt.xlabel('Predicted')\n",
        "plt.ylabel('Real')\n",
        "plt.title('Matriz Confusão - Textos')\n",
        "plt.show()"
      ],
      "metadata": {
        "colab": {
          "base_uri": "https://localhost:8080/",
          "height": 333
        },
        "id": "XlP9-x1lQMDW",
        "outputId": "f56267e8-301c-4bb0-c96d-a4af900953ce"
      },
      "execution_count": 159,
      "outputs": [
        {
          "output_type": "display_data",
          "data": {
            "text/plain": [
              "<Figure size 300x300 with 2 Axes>"
            ],
            "image/png": "[encoded data removed]"
          },
          "metadata": {}
        }
      ]
    }
  ]
}